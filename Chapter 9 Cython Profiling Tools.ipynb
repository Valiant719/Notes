{
 "cells": [
  {
   "cell_type": "markdown",
   "metadata": {},
   "source": [
    "# Chapter 9 Cython Profiling Tools\n",
    "\n",
    "### Cython Runtime Profiling\n",
    "\n",
    "推荐使用profiling tools来量化程序的表现，以决定哪些部分需要使用Cython改写。\n",
    "\n",
    "Python有许多方便的profiling工具：\n",
    "    - 内建profile/cProfile模块。\n",
    "    - Ipython构建在此之上的魔法命令%timeit(对small statement)及%run(对整个程序)\n",
    "    \n",
    "然而，这些profiling工具用在调用C代码的Python代码上时，所有关于C级别操作的性能信息都丢失了。为了解决这一问题，Cython可以“欺骗”这些profiling工具，让它们以为这些C级别的调用时常规的Python调用。\n",
    "\n",
    "##### cProfiler.run()结果含义：\n",
    "- ncalls：调用的次数\n",
    "- tottime：函数花费的总时间（**不包括**花在called function上的时间），通常这个时间提供了最有用的信息。\n",
    "- percall：第一个percall是tottime/ncalls\n",
    "- cumtime：函数花费的总时间（**包括**花在called function上的时间），通常这个时间提供了最有用的信息。\n",
    "- percall：第二个percall是cumtime/ncalls\n",
    "- filename：模块名+行数+该行对应的函数名\n",
    "\n",
    "##### profile编译指令\n",
    "使Cython支持在生成的代码中进行runtime profiling。\n",
    "- 在*.pyx*文件开头添加<font color='#ff2222' face='consolas'># cython: profile=True</font>\n",
    "\n",
    "##### 选择要profile的函数\n",
    "移除module-wide profiling指令，cimport cython魔法模块，在要profile的函数前添加<font color='#ff2222' face='consolas'>@cython.profile(True)</font>装饰器。\n",
    "Cython不能对imported function进行profile，智能对extension module中定义的函数进行profile。"
   ]
  },
  {
   "cell_type": "code",
   "execution_count": 12,
   "metadata": {
    "collapsed": false
   },
   "outputs": [
    {
     "name": "stdout",
     "output_type": "stream",
     "text": [
      "Overwriting integ.pyx\n"
     ]
    }
   ],
   "source": [
    "%%file integ.pyx\n",
    "# cython: profile=True\n",
    "# from math import sin\n",
    "from libc.math cimport sin\n",
    "cimport cython\n",
    "cpdef double sin2(double x):\n",
    "    return sin(x)**2\n",
    "\n",
    "@cython.cdivision(True)\n",
    "cpdef double integrate(double a, double b, f, int N=2000):\n",
    "    cdef:\n",
    "        int i\n",
    "        double dx = (b-a)/N\n",
    "        double s = 0.0\n",
    "    for i in range(N):\n",
    "        s += f(a+i*dx)\n",
    "    return s * dx"
   ]
  },
  {
   "cell_type": "code",
   "execution_count": 13,
   "metadata": {
    "collapsed": false
   },
   "outputs": [
    {
     "name": "stdout",
     "output_type": "stream",
     "text": [
      "Overwriting main.py\n"
     ]
    }
   ],
   "source": [
    "%%file main.py\n",
    "import pyximport\n",
    "pyximport.install()\n",
    "from integ import sin2,integrate\n",
    "from math import pi, sin\n",
    "def main():\n",
    "    a, b = 0.0, 2.0 * pi\n",
    "    return integrate(a, b, sin2, N=400000)\n",
    "if __name__ == '__main__':\n",
    "    import cProfile\n",
    "    cProfile.run('main()',sort='time')"
   ]
  },
  {
   "cell_type": "code",
   "execution_count": 14,
   "metadata": {
    "collapsed": false,
    "scrolled": false
   },
   "outputs": [
    {
     "name": "stdout",
     "output_type": "stream",
     "text": [
      "integ.c\n",
      "integ.obj : warning LNK4197: export 'initinteg' specified multiple times; using first specification\n",
      "   Creating library C:\\Users\\Think X260\\.pyxbld\\temp.win-amd64-2.7\\Release\\Users\\Think X260\\.pyxbld\\temp.win-amd64-2.7\\Release\\pyrex\\integ.lib and object C:\\Users\\Think X260\\.pyxbld\\temp.win-amd64-2.7\\Release\\Users\\Think X260\\.pyxbld\\temp.win-amd64-2.7\\Release\\pyrex\\integ.exp\n",
      "         400005 function calls in 0.089 seconds\n",
      "\n",
      "   Ordered by: internal time\n",
      "\n",
      "   ncalls  tottime  percall  cumtime  percall filename:lineno(function)\n",
      "   400000    0.047    0.000    0.047    0.000 integ.pyx:5(sin2)\n",
      "        1    0.042    0.042    0.127    0.127 integ.pyx:9(integrate)\n",
      "        1    0.000    0.000    0.127    0.127 main.py:5(main)\n",
      "        1    0.000    0.000    0.127    0.127 {integ.integrate}\n",
      "        1    0.000    0.000    0.127    0.127 <string>:1(<module>)\n",
      "        1    0.000    0.000    0.000    0.000 {method 'disable' of '_lsprof.Profiler' objects}\n",
      "\n",
      "\n"
     ]
    }
   ],
   "source": [
    "!python main.py\n",
    "# 为什么使用integrate文件名会报错？？？"
   ]
  },
  {
   "cell_type": "markdown",
   "metadata": {},
   "source": [
    "### Performance Profiling and Annotations\n",
    "使用<font face='consolas'>cProfile</font>和Cython的<font face='consolas'>profile</font>是我们应该使用的第一个profiling工具。其直接告诉我们，基于运行时表现，应该关注那些代码。\n",
    "\n",
    "Cython还提供了*compile-time annotations*，来告诉我们为什么给定的代码速度缓慢。其和前面介绍的runtime profiling让门可以全面互补的评估Cython代码的表现。\n",
    "\n",
    "<font face='consolas'>cython</font>编译器有一个可选的<font face='consolas'>--annotate(简写形式：-a)</font>，可以指示<font face='consolas'>cython</font>生成Cython源码的HTML文件，即*code annotation*。Cython会基于对Python/C API的调用次数对每一行代码做彩色标注：调用次数很多的代码会被高亮为<font color='#ff9911'>黄色</font>，不调用C API的代码无高亮。点击annotation file中的某行代码会展开该行生成的对应的C代码，使我们可以很方便的进行检查。\n",
    "\n",
    "<font face='consolas'>cython</font>这样做是基于一个启发式的结论：如果一行Cython代码调用了很多次Python/C API，那么可能该行操作了许多Python对象，很多时候性能不佳。而如果一行代码只被翻译成很少的几行C代码，且未调用C API，那么其没有操作Python对象，很有可能具有较好的性能。"
   ]
  },
  {
   "cell_type": "code",
   "execution_count": 15,
   "metadata": {
    "collapsed": false
   },
   "outputs": [],
   "source": [
    "!cython -a integ.pyx"
   ]
  }
 ],
 "metadata": {
  "kernelspec": {
   "display_name": "Python 2",
   "language": "python",
   "name": "python2"
  },
  "language_info": {
   "codemirror_mode": {
    "name": "ipython",
    "version": 2
   },
   "file_extension": ".py",
   "mimetype": "text/x-python",
   "name": "python",
   "nbconvert_exporter": "python",
   "pygments_lexer": "ipython2",
   "version": "2.7.10"
  }
 },
 "nbformat": 4,
 "nbformat_minor": 0
}
