{
 "cells": [
  {
   "cell_type": "markdown",
   "metadata": {},
   "source": [
    "由于Cython是Python的超集，所以Python解释器不能直接导入和运行它，我们需要通过Cython编译管道(compilation pipeline)将Cython源码转换成可被Python调用的形式。\n",
    "\n",
    "### Pipeline\n",
    "- 1st stage：Cython源码$\\Longrightarrow$平台独立的优化C或C++代码。\n",
    "- 2nd stage：生成的C或C++源码$\\Longrightarrow$可被Python调用的库(extension module)。\n",
    "\n",
    "#### 标准方法：使用distutils和cythonize\n",
    "需要编写一个Python脚本并运行它\n",
    "- 1st stage：Cython的cythonize方法。返回a list of distutils Extension objects\n",
    "- 2nd stage：distutils中的setup方法\n",
    "##### 执行该脚本\n",
    "!python setup.py build_ext --inplace --compiler=msvc"
   ]
  },
  {
   "cell_type": "code",
   "execution_count": 5,
   "metadata": {
    "collapsed": false
   },
   "outputs": [
    {
     "name": "stdout",
     "output_type": "stream",
     "text": [
      "Overwriting fib.pyx\n"
     ]
    }
   ],
   "source": [
    "%%file fib.pyx\n",
    "def cyfib(int n):\n",
    "    cdef int i, a, b\n",
    "    a, b = 1, 1\n",
    "    for i in range(n):\n",
    "        a, b = a+b, a\n",
    "    return a"
   ]
  },
  {
   "cell_type": "code",
   "execution_count": 8,
   "metadata": {
    "collapsed": false
   },
   "outputs": [
    {
     "name": "stdout",
     "output_type": "stream",
     "text": [
      "Overwriting setup.py\n"
     ]
    }
   ],
   "source": [
    "%%file setup.py\n",
    "from distutils.core import setup\n",
    "from distutils.extension import Extension\n",
    "from Cython.Build import cythonize\n",
    "setup(ext_modules=cythonize('fib.pyx'))"
   ]
  },
  {
   "cell_type": "code",
   "execution_count": 10,
   "metadata": {
    "collapsed": false
   },
   "outputs": [
    {
     "name": "stdout",
     "output_type": "stream",
     "text": [
      "running build_ext\n",
      "building 'fib' extension\n",
      "creating build\n",
      "creating build\\temp.win-amd64-2.7\n",
      "creating build\\temp.win-amd64-2.7\\Release\n",
      "C:\\Users\\Think X260\\AppData\\Local\\Programs\\Common\\Microsoft\\Visual C++ for Python\\9.0\\VC\\Bin\\amd64\\cl.exe /c /nologo /Ox /MD /W3 /GS- /DNDEBUG \"-ID:\\Program Files\\Anaconda\\include\" \"-ID:\\Program Files\\Anaconda\\PC\" /Tcfib.c /Fobuild\\temp.win-amd64-2.7\\Release\\fib.obj\n",
      "fib.c\n",
      "C:\\Users\\Think X260\\AppData\\Local\\Programs\\Common\\Microsoft\\Visual C++ for Python\\9.0\\VC\\Bin\\amd64\\link.exe /DLL /nologo /INCREMENTAL:NO \"/LIBPATH:D:\\Program Files\\Anaconda\\libs\" \"/LIBPATH:D:\\Program Files\\Anaconda\\PCbuild\\amd64\" /EXPORT:initfib build\\temp.win-amd64-2.7\\Release\\fib.obj \"/OUT:D:\\Program Files\\Anaconda\\QieLearning\\Cython\\Chapter2 Compiling and Running Cython Code\\fib.pyd\" /IMPLIB:build\\temp.win-amd64-2.7\\Release\\fib.lib /MANIFESTFILE:build\\temp.win-amd64-2.7\\Release\\fib.pyd.manifest\n",
      "fib.obj : warning LNK4197: export 'initfib' specified multiple times; using first specification\n",
      "   Creating library build\\temp.win-amd64-2.7\\Release\\fib.lib and object build\\temp.win-amd64-2.7\\Release\\fib.exp\n"
     ]
    }
   ],
   "source": [
    "# 执行setup.py脚本，生成可被调用的fib.pyd\n",
    "!python setup.py build_ext --inplace --compiler=msvc"
   ]
  },
  {
   "cell_type": "code",
   "execution_count": 11,
   "metadata": {
    "collapsed": false
   },
   "outputs": [
    {
     "data": {
      "text/plain": [
       "144"
      ]
     },
     "execution_count": 11,
     "metadata": {},
     "output_type": "execute_result"
    }
   ],
   "source": [
    "import fib\n",
    "fib.cyfib(10)"
   ]
  },
  {
   "cell_type": "code",
   "execution_count": 12,
   "metadata": {
    "collapsed": false
   },
   "outputs": [],
   "source": [
    "# 将生成的文件打包写入zip文件\n",
    "import zipfile\n",
    "f = zipfile.ZipFile('chapter2_fib.zip','w',zipfile.ZIP_DEFLATED)\n",
    "names = 'fib.pyd fib.pyx fib.c setup.py'.split()\n",
    "for name in names:\n",
    "    f.write(name)\n",
    "f.close()"
   ]
  },
  {
   "cell_type": "markdown",
   "metadata": {
    "collapsed": false
   },
   "source": [
    "#### 使用ipython的%%cython魔法语句实现交互式Cython\n",
    "使用distutils的一大缺陷是需要独立的编译步骤，无法实现交互。而使用ipython的魔法命令可以很方便的在交互式环境下使用Cython。\n",
    "- %load_ext Cython : 加载Cython的魔法命令\n",
    "- %%cython : 使我们可以在IPython解释器中直接编写Cython代码块。IPython将我们定义的Cython代码复制进Cython源码，然后将其编译成一个extension module。如果编译时成功的，IPython将导入该module中的everything到interactive namespace。我么可以传入一些可选参数给该魔术命令：\n",
    "    - -n, --name: 指定生成的.pyx文件的名字\n",
    "    - --cplus: 生成C++源码\n",
    "    - -a, --annotate: 输出一个annotated source file\n",
    "    - -f, --force: 强制cython重新生成C或C++源码\n",
    "    - -I, --include: adds directories to search for file inclusion and *cimports*\n",
    "    - -c, --compile-args: allow inclusion of extra C compiler arguments\n",
    "    - --link-args: allow inclusion of extra link arguments\n",
    "    - -L: adds extra library search directories\n",
    "    - -l: adds extra library names to link against\n",
    "- %%cython_inline: 编译并运行嵌入在当前Python命名空间中的Cython代码\n",
    "- %%cython_pyximport: 建立在pyximport package之上"
   ]
  },
  {
   "cell_type": "code",
   "execution_count": 14,
   "metadata": {
    "collapsed": false
   },
   "outputs": [],
   "source": [
    "%load_ext Cython"
   ]
  },
  {
   "cell_type": "code",
   "execution_count": 16,
   "metadata": {
    "collapsed": true
   },
   "outputs": [],
   "source": [
    "%%cython\n",
    "def fib(int n):\n",
    "    cdef int i\n",
    "    cdef double a = 0.0, b = 1.0\n",
    "    for i in range(n):\n",
    "        a, b = a+b, a\n",
    "    return a"
   ]
  },
  {
   "cell_type": "code",
   "execution_count": 19,
   "metadata": {
    "collapsed": false
   },
   "outputs": [
    {
     "name": "stdout",
     "output_type": "stream",
     "text": [
      "The slowest run took 7.94 times longer than the fastest. This could mean that an intermediate result is being cached \n",
      "10000000 loops, best of 3: 138 ns per loop\n"
     ]
    }
   ],
   "source": [
    "%timeit fib(90)"
   ]
  },
  {
   "cell_type": "markdown",
   "metadata": {},
   "source": [
    "#### 通过pyximport库实时动态的进行编译\n",
    "- pyximport 改进了import使其可以识别.pyx扩展模块，自动将它们发送到compilation pipeline，然后import这些扩展模块在python中使用。pyximport使我们可以无需编写额外的脚本，并将.pyx模块当做普通的python模块使用。\n",
    "- 如果一个Cython源文件被修改，则pyimport将会自动探测到修改，当其在一个新的python interpreter session中被导入时重新编译源文件。\n",
    "- 因为通过pyximport导入的Cython模块依赖于cython compiler以及一个C compiler，其不适合用在依赖关系不在我们掌控之下的生产环境中。"
   ]
  },
  {
   "cell_type": "code",
   "execution_count": 24,
   "metadata": {
    "collapsed": false
   },
   "outputs": [
    {
     "data": {
      "text/plain": [
       "144"
      ]
     },
     "execution_count": 24,
     "metadata": {},
     "output_type": "execute_result"
    }
   ],
   "source": [
    "import pyximport\n",
    "pyximport.install()\n",
    "import fib\n",
    "fib.cyfib(10)"
   ]
  }
 ],
 "metadata": {
  "kernelspec": {
   "display_name": "Python 2",
   "language": "python",
   "name": "python2"
  },
  "language_info": {
   "codemirror_mode": {
    "name": "ipython",
    "version": 2
   },
   "file_extension": ".py",
   "mimetype": "text/x-python",
   "name": "python",
   "nbconvert_exporter": "python",
   "pygments_lexer": "ipython2",
   "version": "2.7.10"
  }
 },
 "nbformat": 4,
 "nbformat_minor": 0
}
