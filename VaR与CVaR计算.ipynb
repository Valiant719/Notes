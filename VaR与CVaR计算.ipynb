{
 "cells": [
  {
   "cell_type": "markdown",
   "metadata": {},
   "source": [
    "## <font face='微软雅黑'>历史模拟法</font>\n",
    "### 14.3 历史模拟法的推广\n",
    "#### <font face='微软雅黑'>14.3.2 在历史模拟法中包含波动率的更新</font>\n",
    "市场变量$v_{n+1}$z在第$i$个情景下会变为：\n",
    "$$v_{n+1}=v_n\\frac{v_{i-1}+(v_i-v_{i-1})\\frac{\\sigma_{n+1}}{\\sigma_i}}{v_{i-1}}=(1+r_i\\frac{\\sigma_{n+1}}{\\sigma_i})v_n$$\n",
    "其中，$r_i=\\frac{v_i-v_{i-1}}{v_{i-1}}$。\n",
    "\n",
    "\n",
    "### 14.5 极值理论\n",
    "描述<font color='#ff2222' face='微软雅黑'>**尾部分布**</font>这一学科的理论学名被称为<font color='#ff2222' face='微软雅黑'>**极值理论(extreme value theory, EVT)**</font>(extreme value theory, EVT)。\n",
    "\n",
    "#### <font face='微软雅黑'>14.5.1 主要结果（Gnedenko）</font>\n",
    "\n",
    "假定$F(v)$为变量$v$的累积分布函数，$u$为$v$的右端尾部的一个数值，$v$介于$u$和$u+y(y>0)$之间的概率为$P(u<v\\le{u+y})=F(u+y)-F(u)$,$u>v$的概率为$P(v>u)=1-F(u)$，定义$F_u{y}$为在$u>v$条件下，$v$介于$u$和$u+y$之间的条件概率，即\n",
    "$$P(u<v\\le{u+y}|v>u)=\\frac{F(u+y)-F(u)}{1-F(u)}$$\n",
    "$F_u{y}$定义了右端尾部的概率分布，这一数量是在$u>v$条件下，变量$v$超出$u$的累积概率分布。\n",
    "Gnedenko的结果阐明，对于多种概率分布$F(v)$，分布$F_u{y}$随着$u$的增加，趋向于广义Pareto分布，广义Pareto分布的累积分布函数是：\n",
    "$$G_{\\xi,\\beta}(y)=1-(1+\\xi\\frac{y}{\\beta})^{-1/\\xi}$$\n",
    "<font color='#ff2222'ace='微软雅黑'>**参数$\\xi，\\beta$必须通过数据进行估计。**</font>参数$\\xi$是有关分布的形状，这一参数决定了为部分不的肥瘦，当变量$v$服从正态分布时$\\xi=0$，对于大多数金融数据，$\\xi$为正且介于${0.1}\\sim{0.4}$之间；参数$\\beta$是分布的规模因子。"
   ]
  },
  {
   "cell_type": "markdown",
   "metadata": {},
   "source": [
    "#### <font face='微软雅黑'>14.5.2 参数$\\xi$及$\\beta$的估计</font>\n",
    "概率密度函数$g_{\\xi,\\beta}$：\n",
    "$$g_{\\xi,\\beta}=\\frac{dG_{\\xi,\\beta}}{dy}=\\frac{1}{\\beta}(1+\\xi\\frac{y}{\\beta})^{-1/\\xi-1}$$\n",
    "- 首先<font color='#ff2222'>**选定$u$**</font>（这一数值可能同实证分布empirical distribution中的$95%$的分位数较为接近）\n",
    "- 然后将$v$的观察值从大到小进行排序，我们要关注的是$v>u$的观察值，假定这样的观察值有$n_u$个。则这些观察值总的对数似然函数为：\n",
    "$$log(L)=\\sum_{i=1}^{n_u}{\\frac{1}{\\beta}(1+\\xi\\frac{v_i-u}{\\beta})^{-1/\\xi-1}}$$\n",
    "- 最大化$log(L)$，求得参数$\\xi_{opt},\\beta_{opt}$\n",
    "\n",
    "####<font face='微软雅黑'>14.5.3 对尾部分布的估计</font>\n",
    "$$P\\{v>u+y|v>u\\}=1-P\\{u<v\\le{u+y}|v>u\\}=(1+\\xi\\frac{x-u}{\\beta})^{-1/\\xi}$$\n",
    "令$x=u+y$，则$y=x-u$，$v>x$的无条件概率为：\n",
    "$$P(v>u)=(1-F(u))(1-G_{\\xi,\\beta}(x-u))=\\frac{n_u}{n}(1+\\xi\\frac{x-u}{\\beta})^{-1/\\xi}$$"
   ]
  },
  {
   "cell_type": "markdown",
   "metadata": {},
   "source": [
    "####<font face='微软雅黑'>14.5.4 与幂律的等价性</font>\n",
    "####<font face='微软雅黑'>14.5.5 左端尾部</font>\n",
    "####<font face='微软雅黑'>14.5.6 计算VaR和预期损失</font>\n",
    "- VaR\n",
    "$$q=F(VaR)=1-P(v>VaR)=1-\\frac{n_u}{n}(1+\\xi\\frac{VaR-u}{\\beta})^{-1/\\xi}$$\n",
    "\n",
    "$$VaR=u+\\frac{\\beta}{\\xi}[(\\frac{n}{n_u}(1-q))^{-\\xi}-1]$$\n",
    "\n",
    "- 预期损失ES\n",
    "$$ES=\\frac{VaR+\\beta-\\xi{u}}{1-\\xi}$$\n",
    "\n",
    "推导如下：\n",
    "概率密度函数为：\n",
    "$$f(x)=\\frac{dF(x)}{dx}=\\frac{d[1-P(v>x)]}{dx}=\\frac{n_u}{n}\\frac{1}{\\beta}[1+\\frac{\\xi}{\\beta}(x-u)]^{-\\frac{1}{\\xi}-1}$$\n",
    "\n",
    "$$ES=\\frac{\\int_{VaR}^{\\infty}{xf(x)dx}}{1-F(VaR)}=\\frac{\\Theta}{1-q}$$\n",
    "\n",
    "$$\\Theta=\\int_{VaR}^{+\\infty}{xf(x)dx}= \\frac{n_u}{n}\\frac{1}{\\beta}\\int_{VaR}^{\\infty}{[1+\\frac{\\xi}{\\beta}(x-u)]^{-\\frac{1}{\\xi}-1}xdx}=\\frac{n_u}{n}\\frac{1}{\\beta}\\Xi$$\n",
    "\n",
    "令$t=1+\\frac{\\xi}{\\beta}(t-1)$，则$x=u+\\frac{\\beta}{\\xi}(x-u)$，$t_0=1+\\frac{\\xi}{\\beta}(VaR-u)$，则有：\n",
    "\n",
    "$$\\Xi=\\frac{\\beta}{\\xi}\\int_{t_0}^{+\\infty}{t^{-\\frac{1}{\\xi}-1}[u+\\frac{\\beta}{\\xi}(t-1)]dt}=(\\frac{\\beta}{\\xi})^2\\int_{t_0}^{+\\infty}{t^{-\\frac{1}{\\xi}}dt} + \\frac{\\beta}{\\xi}(u-\\frac{\\beta}{\\xi})\\int_{t_0}^{+\\infty}{t^{-\\frac{1}{\\xi}-1}dt}$$\n",
    "\n",
    "当$0<\\xi<1$时，有：\n",
    "\n",
    "$$\\Xi=(\\frac{\\beta}{\\xi})^2\\frac{\\xi}{1-\\xi}t_0^{-\\frac{1}{\\xi}+1}+ \\frac{\\beta}{\\xi}(u-\\frac{\\beta}{\\xi}){\\xi}t_0^{-\\frac{1}{\\xi}}$$\n",
    "\n",
    "由于$1-q=\\frac{n_u}{n}[1+\\frac{\\xi}{\\beta}(VaR-u)]^{-\\frac{1}{\\xi}}=\\frac{n_u}{n}t_0^{-\\frac{1}{\\xi}}$\n",
    "\n",
    "$$\\Xi=[(\\frac{\\beta}{\\xi})^2\\frac{\\xi}{1-\\xi}t_0+ \\frac{\\beta}{\\xi}(u-\\frac{\\beta}{\\xi}){\\xi}](1-q)\\frac{n}{n_u}$$\n",
    "\n",
    "$$ES=[(\\frac{\\beta}{\\xi})^2\\frac{\\xi}{1-\\xi}t_0+ \\frac{\\beta}{\\xi}(u-\\frac{\\beta}{\\xi}){\\xi}](1-q)\\frac{n}{n_u}\\frac{n_u}{n}\\frac{1}{\\beta}\\frac{1}{1-q}=\\frac{1}{1-\\xi}[\\frac{\\beta}{\\xi}+VaR-u]+u-\\frac{\\beta}{\\xi}$$\n",
    "\n",
    "继续化简即可得到最终结果：\n",
    "<font color='#ff2222'>$$ES=\\frac{VaR+\\beta-\\xi{u}}{1-\\xi}$$</font>"
   ]
  }
 ],
 "metadata": {
  "kernelspec": {
   "display_name": "Python 2",
   "language": "python",
   "name": "python2"
  },
  "language_info": {
   "codemirror_mode": {
    "name": "ipython",
    "version": 2
   },
   "file_extension": ".py",
   "mimetype": "text/x-python",
   "name": "python",
   "nbconvert_exporter": "python",
   "pygments_lexer": "ipython2",
   "version": "2.7.10"
  }
 },
 "nbformat": 4,
 "nbformat_minor": 0
}
