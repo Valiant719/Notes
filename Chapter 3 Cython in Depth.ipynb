{
 "cells": [
  {
   "cell_type": "markdown",
   "metadata": {},
   "source": [
    "### I. Why Cython Works\n",
    "#### Interpreted Versus Compiled Execution\n",
    "#### Dynamic Verses Static Typing\n",
    "Cython可以提升性能的主要原因是其将<font color='#ff2222'>**静态类型**</font>引入了动态语言。"
   ]
  },
  {
   "cell_type": "markdown",
   "metadata": {},
   "source": [
    "### II. 使用**cdef**声明静态类型\n",
    "##### 1. cdef关键字+类型\n",
    "##### 2. cdef: + 代码块"
   ]
  },
  {
   "cell_type": "code",
   "execution_count": 1,
   "metadata": {
    "collapsed": true
   },
   "outputs": [],
   "source": [
    "%load_ext Cython"
   ]
  },
  {
   "cell_type": "code",
   "execution_count": 2,
   "metadata": {
    "collapsed": true
   },
   "outputs": [],
   "source": [
    "%%cython\n",
    "def integrate(a,b,f):\n",
    "    cdef int i\n",
    "    cdef int N = 2000\n",
    "    cdef float dx, s=0.0\n",
    "    '''\n",
    "    cdef:\n",
    "        int i\n",
    "        int N = 2000\n",
    "        float dx, s=0.0\n",
    "    '''\n",
    "    dx = (b-a)/N\n",
    "    for i in range(N):\n",
    "        s += f(a+i*dx)\n",
    "    return s*dx"
   ]
  },
  {
   "cell_type": "markdown",
   "metadata": {},
   "source": [
    "Cython不能使用static关键字声明变量，但是可以使用const关键字，这将在第7和8章讲解。\n",
    "**Cython supports the full range of C declarations**\n",
    "<font color=#ff22aa size=2 face=\"微软雅黑\">Table 3-1 Various cdef declarations: page 54</font>\n",
    "- Pointer指针\n",
    "    - cdef int *p\n",
    "    - cdef void **buf\n",
    "- Stack-allocated C arrays\n",
    "    - cdef int arr[10]\n",
    "    - cdef double points[20][20]\n",
    "- typedefed aliased types???\n",
    "    - cdef size_t len\n",
    "- Compound types (struts and unions)\n",
    "    - cdef tm time_struct\n",
    "    - cdef int_short_union_t hi_lo_bytes\n",
    "- Function pointers\n",
    "    - cdef void (*f)(int, double)\n"
   ]
  },
  {
   "cell_type": "markdown",
   "metadata": {},
   "source": [
    "### III. Automatic Type Inference in Cython\n",
    "cdef并不是Cython中声明静态变量的唯一方法。Cython对函数或方法主体中未声明类型的变量进行变量类型推断。在默认的情况下，只有当变量类型推断不会改变代码语法的情况下，Cython才会这么做。\n",
    "- <font color='#ff2222'>@cython.infer_types(True)</font>\n",
    "- 当我们启动infer_types时，我么要自行保证整形操作不会溢出导致语法（相对于untyped version）改变。"
   ]
  },
  {
   "cell_type": "code",
   "execution_count": 3,
   "metadata": {
    "collapsed": false
   },
   "outputs": [],
   "source": [
    "%%cython\n",
    "cimport cython\n",
    "@cython.infer_types(True)\n",
    "def more_inference():\n",
    "    i = 1\n",
    "    d = 2.0\n",
    "    c = 3 + 4j\n",
    "    r = i * d + c\n",
    "    return r"
   ]
  },
  {
   "cell_type": "markdown",
   "metadata": {},
   "source": [
    "### IV. C Pointers in Cython\n",
    "<font color='#ff22aa' size=3>学习C语言语法</font>"
   ]
  },
  {
   "cell_type": "markdown",
   "metadata": {},
   "source": [
    "### V. Mixing Statically and Dynamically Typed Variables\n",
    "Cython允许静态和动态类型变量之间相互赋值。\n",
    "<font color=#ff22aa size=2 face=\"微软雅黑\">Table 3-2 Type correspondence between built-in Python types and C or C++ types: page 58</font>\n",
    "- bint\n",
    "    - 在C中，bint布尔整形是一个int，可以与Python的bool相互转化。0为False，1为True。\n",
    "- 整形的转化和溢出\n",
    "    - 在Pyton2中int被保存成C long，Python long则具有无限的精度；而在Python3中所有的整形都具有无限的精度。\n",
    "    - 当把Python的整形转化为C整形时，Cython会生成检查溢出的代码，如果C类型不能表示Python整形，a runtime OverflowError is raised.\n",
    "- 浮点型的转化\n",
    "    - Python float被保存成C double。将一个Python float转化为C float会将其截为0.0或正/负无穷。\n",
    "- 复数类型\n",
    "    - Python的复数类型存储为两个C double组成的C struct。\n",
    "    - Cython有float complex和double complex类型（C-level types），对应于Python complex，并具有和Python complex相同的接口，但使用更高效的C级别操作。\n",
    "        - real，imag属性\n",
    "        - conjugate方法\n",
    "        - 高效的加减乘除运算\n",
    "- byte type\n",
    "    - Python的byte类型和char *或std::string自动转化\n",
    "- str and unicode types\n",
    "    - 需要设定<font color='#ff2222'>c_string_type和c_string_encoding编译指令</font>，才能允许str或unicode类型和char *或std::string相互转化。\n"
   ]
  },
  {
   "cell_type": "markdown",
   "metadata": {},
   "source": [
    "### VI. 使用Python类型静态声明变量Statically Declaring Variables with a Python Type\n",
    "对于Python的内建类型<font face='consolas'>list, tuple, list</font>，扩展类型<font face='consolas'>NumPy，及很多其他类型</font>，我们可以使用cdef静态的声明变量。这种静态声明要求<1>Python类型必须由C实现，<2>Cython必须由access to the declaration."
   ]
  },
  {
   "cell_type": "code",
   "execution_count": 4,
   "metadata": {
    "collapsed": false
   },
   "outputs": [],
   "source": [
    "%%cython\n",
    "# cdef声明python内建类型\n",
    "cdef list particles, modified_particles\n",
    "cdef dict names_from_particles\n",
    "cdef str pname\n",
    "cdef set unique_particles\n",
    "'''\n",
    "particles = list(names_from_particles.keys())\n",
    "# 动态变量可以从静态声明的Python类型中初始化\n",
    "other_particles = particles\n",
    "# 删除other_particles[0]也会同时删除particles[0]\n",
    "del other_particles[0]\n",
    "# other_particles可以指向其他任何Python类型\n",
    "# 而particles只能指向Python的list类型\n",
    "'''"
   ]
  },
  {
   "cell_type": "markdown",
   "metadata": {},
   "source": [
    "当我们加减乘除标量时，如果操作对象时是动态Python对象类型，以Python语法执行操作；如果操作对象是静态C变量类型，则执行的是C语法。这里有一个特例，就是无论操作对象时Python还是C类型，Cython执行除法和求余时默认使用Python语法。要使用C语法，则需要使用<font face='consolas'>cdivision</font>编译指令。\n",
    "- at global module level, or in a directive comment\n",
    "> \\# cython: cdivision=True\n",
    "- at function level with a decorator\n",
    "- within a function with a context manager\n"
   ]
  },
  {
   "cell_type": "code",
   "execution_count": 5,
   "metadata": {
    "collapsed": false
   },
   "outputs": [],
   "source": [
    "%%cython\n",
    "# at function level with a decorator\n",
    "cimport cython\n",
    "@cython.cdivision(False)\n",
    "def divides(int a, int b):\n",
    "    return a / b\n",
    "\n",
    "# within a function with a context manager\n",
    "cimport cython \n",
    "def remainder(int a, int b):\n",
    "    with cython.cdivision(True):\n",
    "        return a % b"
   ]
  },
  {
   "cell_type": "markdown",
   "metadata": {},
   "source": [
    "### VII. Static Typing for Speed\n",
    "提供的静态类型信息越多，Cython优化的效果越好。除了少部分的情况外，这通常是正确的。\n",
    "\n",
    "### VIII. Reference Counting and Static String Types\n",
    "Python的一个主要特征是自动内存管理。Cython通过直接的引用计数来实现它，自动垃圾回收器会周期性的清理unreachable reference cycles.\n",
    "应用类型的计算需引入中间变量，若将计算结果直接赋给另一个引用变量，中间产生的临时变量会被垃圾回收机制回收而导致问题。"
   ]
  },
  {
   "cell_type": "code",
   "execution_count": null,
   "metadata": {
    "collapsed": true
   },
   "outputs": [],
   "source": [
    "# 以下是错误的,b1+b2的临时结果会被垃圾回收机制回收\n",
    "b1 = b\"All men are mortal.\"\n",
    "b2 = b\"Socrates is a man.\"\n",
    "cdef char *buf = b1 + b2\n",
    "# 正确的方式是引入中间变量tmp,tmp不会被回收\n",
    "tmp = s1 + s2\n",
    "cdef char *buf = tmp\n",
    "# or\n",
    "cdef bytes tmp = s1 + s2\n",
    "cdef char *buf = tmp"
   ]
  },
  {
   "cell_type": "markdown",
   "metadata": {},
   "source": [
    "### IX Cython's Three Kinds of Functions\n",
    "- Python函数\n",
    "    - 可以在导入时构建或在运行时动态构建\n",
    "    - 可以通过lambda关键字匿名构建\n",
    "    - 可以在其他函数或其他nested scope中定义\n",
    "    - 可以由其他函数返回\n",
    "    - 可以作为参数传入其他函数\n",
    "    - 可以按位置或参数名传入参数\n",
    "    - 可以定义参数的默认值\n",
    "- C函数\n",
    "    - 可以作为参数传入其他函数，但是这么做远比Python中难\n",
    "    - 不可以在其他函数中定义\n",
    "    - 有一个不可修改的statically assigned name\n",
    "    - 只能按位置传入参数\n",
    "    - 不支持默认参数值\n",
    "    \n",
    "#### [1] Python Functions in Cython with the <font color='#ff2222'>def</font> Keyword\n",
    "Cython支持使用def关键字定义Python function，其函数类型是builtin_function_or_method；而Python下定义的相同函数类型为function，且其具有可变的名字。由于Cython版本运行的是编译的C代码，而Python通过解释器执行bytecodes，所以Cython版本要比Python版本快。"
   ]
  },
  {
   "cell_type": "code",
   "execution_count": 6,
   "metadata": {
    "collapsed": false
   },
   "outputs": [
    {
     "name": "stdout",
     "output_type": "stream",
     "text": [
      "Overwriting fact.pyx\n"
     ]
    }
   ],
   "source": [
    "%%file fact.pyx\n",
    "def py_fact(n):\n",
    "    '''Compute n!'''\n",
    "    if n <= 1:\n",
    "        return 1\n",
    "    return n * py_fact(n-1)"
   ]
  },
  {
   "cell_type": "code",
   "execution_count": 7,
   "metadata": {
    "collapsed": false
   },
   "outputs": [
    {
     "data": {
      "text/plain": [
       "builtin_function_or_method"
      ]
     },
     "execution_count": 7,
     "metadata": {},
     "output_type": "execute_result"
    }
   ],
   "source": [
    "import pyximport\n",
    "pyximport.install()\n",
    "import fact\n",
    "type(fact.py_fact)"
   ]
  },
  {
   "cell_type": "code",
   "execution_count": 8,
   "metadata": {
    "collapsed": false
   },
   "outputs": [
    {
     "data": {
      "text/plain": [
       "function"
      ]
     },
     "execution_count": 8,
     "metadata": {},
     "output_type": "execute_result"
    }
   ],
   "source": [
    "# Python version\n",
    "def interpreted_fact(n):\n",
    "    '''Compute n!'''\n",
    "    if n <= 1:\n",
    "        return 1\n",
    "    return n * interpreted_fact(n-1)\n",
    "type(interpreted_fact)"
   ]
  },
  {
   "cell_type": "code",
   "execution_count": 9,
   "metadata": {
    "collapsed": false
   },
   "outputs": [
    {
     "name": "stdout",
     "output_type": "stream",
     "text": [
      "The slowest run took 6.05 times longer than the fastest. This could mean that an intermediate result is being cached \n",
      "1000000 loops, best of 3: 1.39 µs per loop\n",
      "100000 loops, best of 3: 2.71 µs per loop\n"
     ]
    }
   ],
   "source": [
    "%timeit fact.py_fact(20)\n",
    "%timeit interpreted_fact(20)"
   ]
  },
  {
   "cell_type": "markdown",
   "metadata": {},
   "source": [
    "#### [2] C Function in Cython with the <font color='#ff2222'>cdef</font> keyword\n",
    "当被用来定义函数时，cdef关键字通过C-calling sementics创建函数，其参数及返回来行都是典型的静态类型，他们可以work with C指针对象、structs以及其他不能自动装换成Python类型的C类型。可以将cdef定义的函数当做通过Cython的类Python语法定义的C函数。\n",
    "\n",
    "我们可以在cdef函数中声明和使用Python对象和动态变量，或接受它们作为参数。但由于我们通常希望通过cdef获得尽可能接近于C的表现所以通常这种做法并不好。\n",
    "\n",
    "Cython允许在一个Cython源码中定义cdef和def函数。cdef的返回类型可以是任何我们见过的静态类型，包括指针、structs、C数组以、静态Python类型（譬如list、dict）和void。如果省略返回类型，则默认类型为object。\n",
    "\n",
    "cdef定义的函数可以被同一源码中的其他def或cdef函数调用，但是如果要在其他外部Python代码中调用cdef函数，需要将其包装为def函数。"
   ]
  },
  {
   "cell_type": "code",
   "execution_count": 10,
   "metadata": {
    "collapsed": false
   },
   "outputs": [],
   "source": [
    "%%cython\n",
    "cdef long c_fact(long n):\n",
    "    '''Computes n!'''\n",
    "    if n <= 1:\n",
    "        return 1\n",
    "    return n * c_fact(n-1)\n",
    "def wrap_c_fact(n):\n",
    "    '''Compute n!'''\n",
    "    return c_fact(n)"
   ]
  },
  {
   "cell_type": "code",
   "execution_count": 11,
   "metadata": {
    "collapsed": false
   },
   "outputs": [
    {
     "name": "stdout",
     "output_type": "stream",
     "text": [
      "The slowest run took 18.45 times longer than the fastest. This could mean that an intermediate result is being cached \n",
      "10000000 loops, best of 3: 79 ns per loop\n"
     ]
    }
   ],
   "source": [
    "%timeit wrap_c_fact(20)"
   ]
  },
  {
   "cell_type": "markdown",
   "metadata": {},
   "source": [
    "#### [3] Combining def and cdef Functions with <font color='#ff2222'>cpdef</font>\n",
    "通过cpdef函数我们可以同时得到C版本的函数以及它的Python wrapper。在Cython中调用cpdef函数时，我们只调用C-only version，而在Python中调用它时，则会调用wrapper。\n",
    "\n",
    "cpdef有一个限制：cdef需要兼容Python和Ctypes。任何Python对象可以以C表示，但是并不是所有的C类型都可以以Python来表示；所以我们不能任意的使用void、C指针或C数组作为cpdef函数的参数或返回类型。(参见<font color='#ff2222'>Table 3-2</font>)\n",
    "\n",
    "<font color='ff22aa' face='微软雅黑'>inline关键字????</font>"
   ]
  },
  {
   "cell_type": "code",
   "execution_count": 13,
   "metadata": {
    "collapsed": true
   },
   "outputs": [],
   "source": [
    "%%cython\n",
    "cpdef long cp_fact(long n):\n",
    "    '''Compute n!'''\n",
    "    if n <= 1:\n",
    "        return 1\n",
    "    return n * cp_fact(n-1)"
   ]
  },
  {
   "cell_type": "code",
   "execution_count": 14,
   "metadata": {
    "collapsed": false
   },
   "outputs": [
    {
     "name": "stdout",
     "output_type": "stream",
     "text": [
      "The slowest run took 19.65 times longer than the fastest. This could mean that an intermediate result is being cached \n",
      "10000000 loops, best of 3: 74.3 ns per loop\n"
     ]
    }
   ],
   "source": [
    "%timeit cp_fact(20)"
   ]
  },
  {
   "cell_type": "markdown",
   "metadata": {},
   "source": [
    "#### [4] Functions and Exception Handling\n",
    "def函数总是在C级别返回某种类型的PyObject指针，这种不变形使得Cython可以正确的传递def函数产生的exceptions。但Cython的cdef以及cpdef函数类型可能返回的是非Python类型，这就需要其他exception指示机制。Cython通过except来实现。\n",
    "> <font color='#ff2222' face='consols'>except? -1</font>\n",
    "\n",
    "- -1可以是其他任意返回类型取值范围内的整数，用来作为sentinel指示exeption发生了。\n",
    "- 由于-1也可能是函数的返回值，所以需要使用?，使得在这种情况下不发送exception状态。如果返回的exeption indicator不存在这种模糊性，则可以省略?。\n",
    "- 我们也可以使用<font color='#ff2222' face='consols'>except *</font>，使得Cython无论返回何值都检查expection是否生成，但是这样会增加一些开销。\n",
    "\n",
    "#### [5] Functions and the embedsignature Compiler Directive\n",
    "将<font face='consolas'>embedsignature</font>设为True，可以将Cython编译的函数签名添加到docstring输出中。(<font color='#ff2222'>page 46</font>)\n",
    "> <font face='consolas'># cython: embedsignature=True</font>"
   ]
  },
  {
   "cell_type": "markdown",
   "metadata": {},
   "source": [
    "### X. Type Coercion and Casting\n",
    "<font color='#ff2222'>page 74</font>\n",
    "\n",
    "Cyhton的casting operator和C的飞翔相似，只是其用尖括号代替了圆括号。\n",
    "> Cython: cdef int \\*pre_i = &lt;int*&gt; v\n",
    "\n",
    "> C: int \\*ptr_i = (int*)v;\n",
    "\n",
    "C中的显示类型转换不会被检查，要让Cython在转化之前进行类型检查，可以使用checked casting operator。\n",
    "> cdef list cast_list = &lt;list<font color='#ff2222'>?</font>&gt;a\n",
    "\n",
    "### XI. Declaring and Using structs, unions and enums\n",
    "Cython可以使用cdef或ctypedef关键字定义struct及union类型。其有三种初始化方法：\n",
    "- use struct literals\n",
    "- 对struct的field分别赋值\n",
    "- 使用Python字典进行赋值，这会增加一定的开销\n",
    "\n",
    "Cython不支持嵌套及匿名的struct和union。要使用嵌套struct和union，需要将内部的struct进行定义并为其提供dummy names。 "
   ]
  },
  {
   "cell_type": "code",
   "execution_count": 17,
   "metadata": {
    "collapsed": false
   },
   "outputs": [],
   "source": [
    "%%cython\n",
    "'''\n",
    "# 对应的C代码\n",
    "struct mycpx {\n",
    "    int a;\n",
    "    float b\n",
    "}\n",
    "union uu {\n",
    "    int a;\n",
    "    short b, c;\n",
    "}\n",
    "'''\n",
    "# cdef也可以换成ctypedef\n",
    "cdef struct mycpx:\n",
    "    float real\n",
    "    float imag\n",
    "cdef union uu:\n",
    "    int a\n",
    "    short b,c\n",
    "# 声明具有mycpx类型的变量\n",
    "cdef mycpx zz\n",
    "\n",
    "'''struct的初始化'''\n",
    "# <1> \n",
    "cdef mycpx a = mycpx(3.1415, -1.0)\n",
    "cdef mycpx b = mycpx(real=2.718, imag=1.618034)\n",
    "# <2>\n",
    "zz.real = 3.1415\n",
    "zz.imag = -1.0\n",
    "# <3>\n",
    "cdef mycpx zz2 = {'real':3.1415, 'imag': -1.0}\n",
    "\n",
    "'''nested C struct declaration'''\n",
    "cdef struct _inner:\n",
    "    int inner_a\n",
    "cdef struct nested:\n",
    "    int outer_a\n",
    "    _inner inner\n",
    "# 初始化和赋值\n",
    "cdef nested n = {'outer_a': 1, 'inner': {'inner_a': 2}}\n",
    "\n",
    "'''enum的定义,可以使用cdef/ctypedef，可以匿名'''\n",
    "cdef enum PRIMARIES:\n",
    "    RED = 1\n",
    "    YELLOW = 3\n",
    "    BLUE = 5\n",
    "cdef enum SECONDARIES:\n",
    "    ORANGE, GREEN, PUPPLE"
   ]
  },
  {
   "cell_type": "markdown",
   "metadata": {},
   "source": [
    "### XII. Type Aliasing with ctypedef\n",
    "Cython可以通过ctypedef关键字定义类型别名，这和C中的typedef相似，在和使用typedef别名的外部代码交互时很重要。\n",
    "ctypedef语句只能在file scope出现，不能再函数内部或其他局部声明local type name。\n",
    "\n",
    "<font color='#ff22aa'>Fused Types and Generic Programming——page 78</font>\n",
    "\n",
    "fused type是Cython中新的类型，其提供三个内建fused types：<font color='#ff2222' face='consolas'>integral, floating, numeric</font>。\n",
    "- integral: short, int, long (C)\n",
    "- floating: float, double (C)\n",
    "- numeric: integral, floating, float complex, double complex"
   ]
  },
  {
   "cell_type": "code",
   "execution_count": 19,
   "metadata": {
    "collapsed": false
   },
   "outputs": [],
   "source": [
    "%%cython\n",
    "# 只需改变下面ctypedef一行代码就可以切换计算的精度。\n",
    "ctypedef double real\n",
    "ctypedef long integral\n",
    "def displacement(real d0, real v0, real a, real t):\n",
    "    \"\"\"Calculates displacement under constant acceleration.\"\"\"\n",
    "    cdef real d = d0 + (v0 * t) + (0.5 * a * t**2)\n",
    "    return d\n",
    "\n",
    "# fused type\n",
    "from cython cimport integral\n",
    "cpdef integral integral_max(integral a, integral b):\n",
    "    return a if a >= b else b\n",
    "\n",
    "cimport cython\n",
    "ctypedef fused integral_or_floating:\n",
    "    cython.short\n",
    "    cython.int\n",
    "    cython.long\n",
    "    cython.float\n",
    "    cython.double\n",
    "cpdef integral_or_floating generic_max(integral_or_floating a,\n",
    "                                       integral_or_floating b):\n",
    "    return a if a >= b else b"
   ]
  },
  {
   "cell_type": "markdown",
   "metadata": {},
   "source": [
    "### XIII. Cython for Loops and while Loops\n",
    "#### [1] Guidelines for Efficient Loops\n",
    "- When looping over a range over a <font color='#ff2222' face='consolas'>range</font> call, we should type the <font color='#ff2222' face='consolas'>range</font> argument as a C integer。如果我们确信index value不会导致整形溢出，我们也需要静态定义其类型。\n",
    "- When looping over a container(<font color='#ff2222' face='consolas'>list, tuple, dict, etc</font>),静态定义loop indexing variable的类型，可能引入更多的开销。此时为了更高效的执行循环，可以考虑将container转化为<font color='#ff2222' face='consolas'>C++ equivalent containe</font>或者使用<font color='#ff2222' face='consolas'>typed memoryviews</font>。\n",
    "- 为了保证高效的使用while循环，我们需要使循环条件表达式足够高效。这可能涉及到使用typed variables和cdef functions。"
   ]
  },
  {
   "cell_type": "code",
   "execution_count": 34,
   "metadata": {
    "collapsed": false
   },
   "outputs": [],
   "source": [
    "%%cython\n",
    "# 定义for循环中的i和n静态类型，提升循环效率\n",
    "cpdef long sum_c(long n):\n",
    "    cdef long i, sum = 0\n",
    "    for i in range(n):\n",
    "        sum += i\n",
    "    return sum\n",
    "\n",
    "def sum_cpy(n):\n",
    "    sum = 0\n",
    "    for i in range(n):\n",
    "        sum += i\n",
    "    return sum"
   ]
  },
  {
   "cell_type": "code",
   "execution_count": 35,
   "metadata": {
    "collapsed": true
   },
   "outputs": [],
   "source": [
    "def sum_py(n):\n",
    "    sum = 0\n",
    "    for i in range(n):\n",
    "        sum += i\n",
    "    return sum"
   ]
  },
  {
   "cell_type": "code",
   "execution_count": 37,
   "metadata": {
    "collapsed": false
   },
   "outputs": [
    {
     "name": "stdout",
     "output_type": "stream",
     "text": [
      "1000000 loops, best of 3: 510 ns per loop\n",
      "100000 loops, best of 3: 19.6 µs per loop\n",
      "10000 loops, best of 3: 34.5 µs per loop\n"
     ]
    }
   ],
   "source": [
    "'''\n",
    "Cython cpdef循环、Cython def循环、Python循环\n",
    "的效率比较。\n",
    "'''\n",
    "%timeit sum_c(1000)\n",
    "%timeit sum_cpy(1000)\n",
    "%timeit sum_py(1000)"
   ]
  },
  {
   "cell_type": "markdown",
   "metadata": {},
   "source": [
    "### XIIII. The Cython Preprocessor——page 81\n",
    "- Cython使用DEF关键字构建宏——C语言的宏参考http://c.biancheng.net/cpp/html/1552.html\n",
    "\n",
    "- IF-ELIF-ELSE compile-time statement\n",
    "\n",
    "### XV. Bridging the Python 2 and Python 3 Divide——page 82"
   ]
  }
 ],
 "metadata": {
  "kernelspec": {
   "display_name": "Python 2",
   "language": "python",
   "name": "python2"
  },
  "language_info": {
   "codemirror_mode": {
    "name": "ipython",
    "version": 2
   },
   "file_extension": ".py",
   "mimetype": "text/x-python",
   "name": "python",
   "nbconvert_exporter": "python",
   "pygments_lexer": "ipython2",
   "version": "2.7.10"
  }
 },
 "nbformat": 4,
 "nbformat_minor": 0
}
