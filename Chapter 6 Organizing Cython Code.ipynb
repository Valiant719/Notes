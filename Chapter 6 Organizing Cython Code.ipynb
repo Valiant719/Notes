{
 "cells": [
  {
   "cell_type": "markdown",
   "metadata": {},
   "source": [
    "# <font face='微软雅黑'>Chapter 6 Organing Cython Code</font>\n",
    "Cython全面支持import语句，其和Python中的import语句意义相同，使我们可以在运行时访问定义在外部纯Python模块中的Python对象，或其他扩展模块中的可被Python访问的对象。如果只有import语句，Cython模块间将不能相互访问对方的cdef、cpdef函数、ctypedef、structs，也将不允许对其他extension types进行C级别访问。\n",
    "\n",
    "为了解决这个问题，Cython提供了三种文件类型来管理项目中Cython专属以及C-level的部分；以及<font face='consolas'>cimport</font>语句对C-level constructs进行编译时访问，其在definition（.pxd）文件中寻找constructs的声明。三种文件分别为：\n",
    "- implementation files: 后缀\".pyx\"，Cython源文件\n",
    "- definition files: 后缀\".pxd\",注意不是编译后产生的\".pyd\"\n",
    "- include files: 后缀\".pxi\"\n",
    "\n",
    "本章将涵盖<font face='consolas'>cimport</font>语句的详细介绍，以及三种文件件的关系，以及如何用他们构建更大的Cython项目。\n",
    "\n",
    "### I. Cython Implementation (.pyx) and Declaration (.pxd) Files\n",
    "声明declaration与定义definition的区别\n",
    "- 声明declaration\n",
    "    - 对函数和方法：包含函数和方法签名的所有要素，声明类型(cdef or cpdef)、函数或方法的名字、参数列表（包括括号）；<font color='#ff2222'>但不包括结尾的冒号</font>\n",
    "    - 对cdef class：包括<font face='consolas'>cdef class</font>行(包括冒号)以及extension type的名字，所有属性声明以及方法声明\n",
    "- 定义definition：construct实现所需的所有要素\n",
    "    - 对函数和方法：重复声明部分作为定义的一部分\n",
    "    - 对cdef class：不重复声明属性部分\n",
    "\n",
    "\"simulator.pyx\"和\"simulator.pxd\"具有相同的base name，所有被Cython当做一个namespace来对待。cyhton compiler编译\"simulator.pyx\"时，会自动探测\"simulator.pxd\"并使用其中的声明。\n",
    "\n",
    "What belongs inside a definition file? Essentially, anything that is meant to be publicly accessible to other Cython modules at C level.\n",
    "- definition file中可以包含：\n",
    "    - C类型的声明——<font face='consolas'>ctypedef, struct, union, 或enum</font>（Chapter 7）\n",
    "    - 外部C/C++库的声明——<font face='consolas'>cdef extern</font> blocks（Chapter 7 and 8）\n",
    "    - <font face='consolas'>cdef</font>和<font face='consolas'>cpdef</font>模块级函数的声明\n",
    "    - <font face='consolas'>cdef class</font> extension types\n",
    "    - extension types的<font face='consolas'>cdef</font>属性\n",
    "    - <font face='consolas'>cdef</font>和<font face='consolas'>cpdef</font>方法\n",
    "    - C-level <font face='consolas'>inline</font>函数和方法的实现（implementation）\n",
    "- definition file中**<font color='#ff2222'>不能</font>**包含：\n",
    "    - Python或<font face='consolas'>non-inline</font> C函数或方法的实现\n",
    "    - Python类的定义（i.e., regular classes）\n",
    "    - 在IF或DEF宏以外可以被执行的Python代码\n",
    "\n",
    "*\".pxd\"*文件的作用是是的外部implementation file可以通过<font face='consolas'>cimport</font>语句访问*<font face='consolas'>simulator.pyx</font>*中的所有C-level constructs"
   ]
  },
  {
   "cell_type": "code",
   "execution_count": 1,
   "metadata": {
    "collapsed": false
   },
   "outputs": [
    {
     "name": "stdout",
     "output_type": "stream",
     "text": [
      "Writing simulator.pxd\n"
     ]
    }
   ],
   "source": [
    "%%file simulator.pxd\n",
    "ctypedef double real_t\n",
    "cdef class State:\n",
    "    cdef:\n",
    "        unsigned int n_particles\n",
    "        real_t *x\n",
    "        real_t *vt\n",
    "    cpdef real_t momentum(self)\n",
    "cpdef run(State st)\n",
    "cpdef int step(State st, real_t timestep)"
   ]
  },
  {
   "cell_type": "code",
   "execution_count": 2,
   "metadata": {
    "collapsed": false
   },
   "outputs": [
    {
     "name": "stdout",
     "output_type": "stream",
     "text": [
      "Writing simulator.pyx\n"
     ]
    }
   ],
   "source": [
    "%%file simulator.pyx\n",
    "cdef class State:\n",
    "    def __cint__(...):\n",
    "        # ...\n",
    "    def __dealloc__(...):\n",
    "        # ...\n",
    "    cpdef real_t momentum(self):\n",
    "        # ...\n",
    "def setup(input_fname):\n",
    "    # ...\n",
    "cpdef run(State st):\n",
    "    # ...calls step function repeatedly...\n",
    "cpdef int step(State st, real_t timestep):\n",
    "    # ...advance st one time step...\n",
    "def output(State st):\n",
    "    # ..."
   ]
  },
  {
   "cell_type": "markdown",
   "metadata": {},
   "source": [
    "### II. The cimport Statement\n",
    "cimport的语法和import非常相似\n",
    "- <font face='consolas'>cimport simulator</font>\n",
    "- <font face='consolas'>cimport simulator as sim</font>\n",
    "- <font face='consolas'>from simulator cimport State as sim_state, step as sim_step</font>\n",
    "\n",
    "<font face='consolas'>cimport</font> Python-level对象（如<font face='consolas'>setup</font>函数）以及<font face='consolas'>import</font>C-only声明（如<font face='consolas'>real_t</font>）都会爆出compile-time error。我们被允许<font face='consolas'>import</font>或<font face='consolas'>cimport</font> State extension type或者<font face='consolas'>step cpdef</font>函数,尽管通常推荐使用<font face='consolas'>cimport</font>。当我们<font face='consolas'>import</font> extension types或cpdef函数是，我们将只拥有Python-only access，不能访问private属性或<font face='consolas'>cdef</font>方法，且<font face='consolas'>cpdef</font>方法或函数也将使用更慢的Python wrapper。\n",
    "\n",
    "definition file中可以包含<font face='consolas'>cdef extern</font> blocks。将这样的声明打包放在它们自己的*\".pyd\"*文件中很实用，可以方便他们在其他地方的使用。"
   ]
  },
  {
   "cell_type": "code",
   "execution_count": 3,
   "metadata": {
    "collapsed": false
   },
   "outputs": [
    {
     "name": "stdout",
     "output_type": "stream",
     "text": [
      "Writing improved_simulator.pyx\n"
     ]
    }
   ],
   "source": [
    "%%file improved_simulator.pyx\n",
    "# cimport从simulator.pxd导入。\n",
    "# 访问发生在C level，编译时。\n",
    "from simulator cimport State, step, real_t\n",
    "# import从simulator extension module导入。\n",
    "# 访问发生在Python level，运行时\n",
    "from simulator import setup as sim_setup\n",
    "\n",
    "cdef class NewState(State):\n",
    "    cdef:\n",
    "        # ...extra attributes...\n",
    "        def __cint__(self, ...):\n",
    "            # ...\n",
    "        def __dealloc__():\n",
    "            # ...\n",
    "def setup(fname):\n",
    "    # ...call sim_setup and tweak things slightly...\n",
    "cpdef run(State st):\n",
    "    # ...improved run that uses simulator.step..."
   ]
  },
  {
   "cell_type": "code",
   "execution_count": 4,
   "metadata": {
    "collapsed": false
   },
   "outputs": [
    {
     "name": "stdout",
     "output_type": "stream",
     "text": [
      "Writing _mersenne_twister.pxd\n"
     ]
    }
   ],
   "source": [
    "%%file _mersenne_twister.pxd\n",
    "# definition file that contains cdef extern block\n",
    "cdef extern from \"mt19937ar.h\":\n",
    "    # initializes mt[N] with a seed\n",
    "    void init_genrand(unsigned long s)\n",
    "    # generates a random number on [0,0xffffffff]-interval\n",
    "    unsigned long genrand_int32()\n",
    "    # generates a random number on [0,0x7fffffff]-interval\n",
    "    long genrand_int31()\n",
    "    # generates a random number on [0,1]-real-interval\n",
    "    double genrand_real1()\n",
    "    # generates a random number on [0,1)-real-interval\n",
    "    double genrand_real2()\n",
    "    # generates a random number on (0,1)-real-interval\n",
    "    double genrand_real3()\n",
    "    # generates a random number on [0,1) with 53-bit resolution\n",
    "    double genrand_res53()"
   ]
  },
  {
   "cell_type": "code",
   "execution_count": 5,
   "metadata": {
    "collapsed": false
   },
   "outputs": [
    {
     "name": "stdout",
     "output_type": "stream",
     "text": [
      "Writing mersenne_test.pyx\n"
     ]
    }
   ],
   "source": [
    "%%file mersenne_test.pyx\n",
    "from _mersenne_twister cimport init_genrand, genrand_real3\n",
    "cimport _mersenne_twister as mt\n",
    "mt.init_genrand(42)\n",
    "for i in range(len(x)):\n",
    "    x[i] = mt.genrand_real1()"
   ]
  },
  {
   "cell_type": "markdown",
   "metadata": {},
   "source": [
    "### III. Predefined Definition Files\n",
    "为了方便，Cython为经常使用的C、C++和Python头文件与定义了definition files。他们被归集到definition file packages中，存放在*Cython*源文件目录下的*Includes*目录下。以下是常用的packages：\n",
    "- <font face='consolas'>libc</font>：package with *.pxd* files for C standard library\n",
    "    - <font face='consolas'>stdlib, stdio, math, string, stdint</font>及其他头文件\n",
    "- <font face='consolas'>libcpp</font>：package with *.pxd* files for C++ standard library\n",
    "    - <font face='consolas'>string, vector, list, map, pair, set</font>等\n",
    "- <font face='consolas'>cpython</font>：package with *.pxd* files for the C header files found in the CPython source distribution。提供从Cython访问Python/C API的简单途径。\n",
    "- <font face='consolas'>numpy</font>：提供访问Numpy/C API的途径(<font color='#ff2222'>Chapter 10</font>)。\n",
    "\n",
    "#### cimport的方式有：\n",
    "##### [1]从一个package中cimport一个模块\n",
    "<br></br>\n",
    "<font face='consolas'>from libc cimport math</font>\n",
    "\n",
    "##### [2]从模块（dotted module name）中cimport一个对象\n",
    "<br></br>\n",
    "<font face='consolas'>from libc.math cimport sin</font>\n",
    "\n",
    "##### [3]Multiple named cimports\n",
    "<br></br>\n",
    "<font face='consolas'>from libc.stdlib cimport rand, srand, qsort, malloc, free</font>\n",
    "\n",
    "##### [4]cimport时定义别名（alias）\n",
    "<br></br>\n",
    "<font face='consolas'>from libc.string cimport memcpy as c_memcpy</font>\n",
    "\n",
    "##### [5]cimport C++ STL 模板类\n",
    "<br></br>\n",
    "<font face='consolas'>from libcpp.vector cimport vector</font>\n",
    "<br></br>\n",
    "<font face='consolas'>cdef vector[int] *vi = new vector[int]\\(10)</font>"
   ]
  },
  {
   "cell_type": "markdown",
   "metadata": {},
   "source": [
    "当我们<font face='consolas'>import</font>和<font face='consolas'>cimport</font>具有相同名字的不同函数时，Cython会报出编译时错误。修复这个错误的方法是使用别名。"
   ]
  },
  {
   "cell_type": "code",
   "execution_count": null,
   "metadata": {
    "collapsed": true
   },
   "outputs": [],
   "source": [
    "# 下列代码会爆出编译时错误\n",
    "from libc.math cimport sin\n",
    "from math import sin\n",
    "\n",
    "# 使用别名可以避免这个错误\n",
    "from libc.math cimport sin as csin\n",
    "from math import sin as pysin"
   ]
  },
  {
   "cell_type": "markdown",
   "metadata": {},
   "source": [
    "可以同时<font face='consolas'>import</font>和<font face='consolas'>cimport</font>具有相同名字的不同namespace-like objects(模块或Cython包)。但不推荐这样做，建议使用别名。"
   ]
  },
  {
   "cell_type": "code",
   "execution_count": null,
   "metadata": {
    "collapsed": true
   },
   "outputs": [],
   "source": [
    "# 建议使用别名，虽然不使用别名也没有错\n",
    "from libc cimport math as cmath\n",
    "import math as pymath\n",
    "def call_csin(x):\n",
    "    return cmath.sin(x)\n",
    "def call_pysin(x):\n",
    "    return pymath.sin(x)"
   ]
  },
  {
   "cell_type": "markdown",
   "metadata": {},
   "source": [
    "#### Definition files和C(C++)头文件的相似处：\n",
    "- 他们都声明了C-level constructs，以被外部代码使用\n",
    "- 他们都允许我们将一个大文件分解成几个组件\n",
    "- 他们都为一个实现（implementation）声明了public C-level interface"
   ]
  },
  {
   "cell_type": "markdown",
   "metadata": {},
   "source": [
    "### IV. Include Files and the include Statement\n",
    "Include files和<font face='consolas'>include</font>语句提供了一种实现平台无关设计目标的方法。他们实现了源码级别的inclusion，这与<font face='consolas'>cimport</font>不同，<font face='consolas'>cimport</font>可以看做编译时的<font face='consolas'>import</font>语句，操作的是命名空间。"
   ]
  },
  {
   "cell_type": "code",
   "execution_count": null,
   "metadata": {
    "collapsed": true
   },
   "outputs": [],
   "source": [
    "IF UNAME_SYSNAME == \"Linux\":\n",
    "    include \"linux.pxi\"\n",
    "ELIF UNAME_SYSNAME == \"Darwin\":\n",
    "    include \"darwin.pxi\"\n",
    "ELIF UNAME_SYSNAME == \"Windows\":\n",
    "    include \"windows.pxi\""
   ]
  },
  {
   "cell_type": "markdown",
   "metadata": {},
   "source": [
    "### V. Organizing and Compiling Cython Modules Inside Python Packages\n",
    "<font color='ff22aa' face='微软雅黑'>page 130</font>\n",
    "- 确定Python Project中要使用Cython进行优化的部分。\n",
    "- 将要优化的*.py*文件改为*.pyx*文件，使用Cython改写，并抽取他们的public Cython declarations到对应的*.pxd*文件中。\n",
    "    - 若一个definitoin file需要使用其他definitoin file中的declaration，<font face='consolas'>cimport</font>相应definiton file中的相应declaration。\n",
    "- 编译Cython源文件，生成扩展模块"
   ]
  }
 ],
 "metadata": {
  "kernelspec": {
   "display_name": "Python 2",
   "language": "python",
   "name": "python2"
  },
  "language_info": {
   "codemirror_mode": {
    "name": "ipython",
    "version": 2
   },
   "file_extension": ".py",
   "mimetype": "text/x-python",
   "name": "python",
   "nbconvert_exporter": "python",
   "pygments_lexer": "ipython2",
   "version": "2.7.10"
  }
 },
 "nbformat": 4,
 "nbformat_minor": 0
}
