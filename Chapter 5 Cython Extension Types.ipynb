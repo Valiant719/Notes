{
 "cells": [
  {
   "cell_type": "markdown",
   "metadata": {},
   "source": [
    "### I. Comparing Python Classes and Extension Types\n",
    "Python中一切皆对象。在最基础的级别，对象有三要素：identity、value、type。\n",
    "- identity：由内建的<font face='consolas'>id</font>函数给出，用以区分其他对象。\n",
    "- value：其关联的数据，由\".\"来访问。通常Python将对象的数据放在内部的instance dictionary <font face='consolas'>__dict__</font>中。\n",
    "- type：指明该type对象的行为，行为由函数给出，即为method。\n",
    "\n",
    "使用Python/C API直接创的type称为<font color='#ff2222'>extension types</font>，远比Python class关键字创建的type要高效，但是需要精通Python/C API才行。\n",
    "\n",
    "Cython可以通过<font color='#ff2222' face='consolas'>cdef class</font>以和Python相似的语法创建extension type。\n",
    "- cdef class语句告诉Cython创建extenstion type\n",
    "- 类体重的cdef类型声明是<font color='#ff2222'>C级别的instance属性</font>而不是class属性。\n",
    "    - <font color='#ff2222'>Extension type的属性默认为private，只能被类的方法访问。</font>下面的例子中可以看到直接通过cy_particle.mass报错了。\n",
    "    - 当extension type被初始化后，一个C struct被分配和初始化，其是固定的，不对新成员开放，所以不能动态绑定新属性。而Python类属性保存在instance的__dict__中，字典是可变的，所以可以动态绑定新属性\n",
    "    \n",
    "### II. Type Attribute and Access Control\n",
    "Python的查询机制适用于instance属性、方法、基础类的属性等，而适用范围广度的代价是性能开销。Cython的cdef class extension type则绕过了该查询机制，这极大的提高了性能。\n",
    "\n",
    "我们可以通过一些关键字来控制Cython instance属性的访问级别。调用试用属性的方法时，这些关键字将被忽略。\n",
    "- <font face='consolas'>readonly</font>: 只读属性\n",
    "- <font face='consolas'>public</font>: 可读可写\n"
   ]
  },
  {
   "cell_type": "code",
   "execution_count": 1,
   "metadata": {
    "collapsed": false
   },
   "outputs": [],
   "source": [
    "%load_ext Cython"
   ]
  },
  {
   "cell_type": "code",
   "execution_count": 2,
   "metadata": {
    "collapsed": false
   },
   "outputs": [
    {
     "name": "stdout",
     "output_type": "stream",
     "text": [
      "Writing python_particle.py\n"
     ]
    }
   ],
   "source": [
    "%%file python_particle.py\n",
    "class Particle(object):\n",
    "    '''Simple Particle type.'''\n",
    "    def __init__(self, m, p, v):\n",
    "        self.mass = m\n",
    "        self.position = p\n",
    "        self.velocity = v\n",
    "    def get_momentum(self):\n",
    "        return self.mass * self.velocity"
   ]
  },
  {
   "cell_type": "code",
   "execution_count": 5,
   "metadata": {
    "collapsed": false
   },
   "outputs": [
    {
     "name": "stdout",
     "output_type": "stream",
     "text": [
      "Overwriting cython_particle.pyx\n"
     ]
    }
   ],
   "source": [
    "%%file cython_particle.pyx\n",
    "cdef class Particle:\n",
    "    '''Simple Particle type.'''\n",
    "    cdef public double mass\n",
    "    cdef readonly double position\n",
    "    cdef double velocity\n",
    "    def __init__(self, m, p, v):\n",
    "        self.mass = m\n",
    "        self.position = p\n",
    "        self.velocity = v\n",
    "    def get_momentum(self):\n",
    "        return self.mass * self.velocity"
   ]
  },
  {
   "cell_type": "code",
   "execution_count": 6,
   "metadata": {
    "collapsed": false
   },
   "outputs": [],
   "source": [
    "import pyximport\n",
    "pyximport.install()\n",
    "import cython_particle\n",
    "import python_particle"
   ]
  },
  {
   "cell_type": "code",
   "execution_count": 7,
   "metadata": {
    "collapsed": false
   },
   "outputs": [],
   "source": [
    "py_particle = python_particle.Particle(1.0, 2.0, 3.0)\n",
    "cy_particle = cython_particle.Particle(1.0, 2.0, 3.0)"
   ]
  },
  {
   "cell_type": "code",
   "execution_count": 8,
   "metadata": {
    "collapsed": false
   },
   "outputs": [
    {
     "name": "stdout",
     "output_type": "stream",
     "text": [
      "3.0\n",
      "3.0\n",
      "1.0 2.0 3.0\n",
      "1.0 2.0\n",
      "10.0\n"
     ]
    },
    {
     "ename": "AttributeError",
     "evalue": "'cython_particle.Particle' object has no attribute 'velocity'",
     "output_type": "error",
     "traceback": [
      "\u001b[1;31m---------------------------------------------------------------------------\u001b[0m",
      "\u001b[1;31mAttributeError\u001b[0m                            Traceback (most recent call last)",
      "\u001b[1;32m<ipython-input-8-45f2df2affad>\u001b[0m in \u001b[0;36m<module>\u001b[1;34m()\u001b[0m\n\u001b[0;32m      5\u001b[0m \u001b[0mcy_particle\u001b[0m\u001b[1;33m.\u001b[0m\u001b[0mmass\u001b[0m \u001b[1;33m=\u001b[0m \u001b[1;36m10.0\u001b[0m\u001b[1;33m\u001b[0m\u001b[0m\n\u001b[0;32m      6\u001b[0m \u001b[1;32mprint\u001b[0m \u001b[0mcy_particle\u001b[0m\u001b[1;33m.\u001b[0m\u001b[0mmass\u001b[0m\u001b[1;33m\u001b[0m\u001b[0m\n\u001b[1;32m----> 7\u001b[1;33m \u001b[0mcy_particle\u001b[0m\u001b[1;33m.\u001b[0m\u001b[0mvelocity\u001b[0m\u001b[1;33m=\u001b[0m\u001b[1;36m10.0\u001b[0m\u001b[1;33m\u001b[0m\u001b[0m\n\u001b[0m",
      "\u001b[1;31mAttributeError\u001b[0m: 'cython_particle.Particle' object has no attribute 'velocity'"
     ]
    }
   ],
   "source": [
    "print py_particle.get_momentum()\n",
    "print cy_particle.get_momentum()\n",
    "print py_particle.mass, py_particle.position, py_particle.velocity\n",
    "print cy_particle.mass, cy_particle.position\n",
    "cy_particle.mass = 10.0\n",
    "print cy_particle.mass\n",
    "cy_particle.velocity=10.0"
   ]
  },
  {
   "cell_type": "markdown",
   "metadata": {},
   "source": [
    "### III. C-Level Initialization and Finalization\n",
    "当Python调用\\_\\_init\\_\\_时,self参数必须是一个有效的extension type instance。当\\_\\_init\\_\\_被调用时，通常其会初始化self参数的属性。在C级别，\\_\\_init\\_\\_被调用之前，必须为instance的struct分配内存，所有的struct field必须处于有效的状态，准备接收初始值。\n",
    "\n",
    "前例中的Particle extension type中，\\_\\_init\\_\\_扮演了这个角色，因为所有的field都是double类型，不需要C级别的内存分配。但是根据extension type 怎样被subclassed，或者有其他构造器，\\_\\_init\\_\\_在对象创建过程中可能被调用多次，从而导致内存泄露；而其他一些情况则可能导致\\_\\_init\\_\\_被完全跳过，而导致丑陋的segmentation faults。Cython添加了一个特殊的方法\\_\\_cinit\\_\\_负责执行C级别的内存分配和初始化，其只执行一次，且在\\_\\_init\\_\\_，\\_\\_new\\_\\_，及其他Python-level构造器之前被执行。\n",
    "\n",
    "Cython通过\\_\\_dealloc\\_\\_方法执行C-level finalization，执行\\_\\_cinit\\_\\_的反向操作，其也保证只执行一次。"
   ]
  },
  {
   "cell_type": "code",
   "execution_count": 9,
   "metadata": {
    "collapsed": false,
    "scrolled": true
   },
   "outputs": [],
   "source": [
    "%%cython\n",
    "from libc.stdlib cimport malloc, free\n",
    "cdef class Matrix:\n",
    "    cdef:\n",
    "        unsigned int nrows, ncols\n",
    "        double *_matrix\n",
    "    def __cinit__(self, nr, nc):\n",
    "        self.nrows = nr\n",
    "        self.ncols = nc\n",
    "        # malloc分配内存，若成功返回被分配内存的指针\n",
    "        self._matrix = <double*>malloc(nr * nc * sizeof(double))\n",
    "        if self._matrix == NULL:\n",
    "            raise MemoryError()\n",
    "    def __dealloc__(self):\n",
    "        if self._matrix != NULL:\n",
    "            free(self._matrix)"
   ]
  },
  {
   "cell_type": "markdown",
   "metadata": {},
   "source": [
    "### IV. cdef and cpdef Methods\n",
    "cdef和cpdef定义的method不可以用在non-cdef类中。\n",
    "用法不再赘述，参见Chapter 3。\n",
    "<font color='#ff2222'>page 106</font>\n",
    "\n",
    "### V. Inheritance and Subclassing\n",
    "extension type可以单继承，不可多继承。base type必须由C实现——内建类型或其他extension type，不能是一般的Python类，否则会导致cython compile-time error。"
   ]
  },
  {
   "cell_type": "code",
   "execution_count": 25,
   "metadata": {
    "collapsed": false
   },
   "outputs": [
    {
     "name": "stdout",
     "output_type": "stream",
     "text": [
      "Writing setup.py\n"
     ]
    }
   ],
   "source": [
    "%%file setup.py\n",
    "from distutils.core import setup\n",
    "from distutils.extension import Extension\n",
    "from Cython.Build import cythonize\n",
    "setup(ext_modules=cythonize('cython_particle.pyx'))"
   ]
  },
  {
   "cell_type": "code",
   "execution_count": 28,
   "metadata": {
    "collapsed": false
   },
   "outputs": [
    {
     "name": "stdout",
     "output_type": "stream",
     "text": [
      "running build_ext\n",
      "building 'cython_particle' extension\n",
      "creating build\n",
      "creating build\\temp.win-amd64-2.7\n",
      "creating build\\temp.win-amd64-2.7\\Release\n",
      "C:\\Users\\Think X260\\AppData\\Local\\Programs\\Common\\Microsoft\\Visual C++ for Python\\9.0\\VC\\Bin\\amd64\\cl.exe /c /nologo /Ox /MD /W3 /GS- /DNDEBUG \"-ID:\\Program Files\\Anaconda\\include\" \"-ID:\\Program Files\\Anaconda\\PC\" /Tccython_particle.c /Fobuild\\temp.win-amd64-2.7\\Release\\cython_particle.obj\n",
      "cython_particle.c\n",
      "C:\\Users\\Think X260\\AppData\\Local\\Programs\\Common\\Microsoft\\Visual C++ for Python\\9.0\\VC\\Bin\\amd64\\link.exe /DLL /nologo /INCREMENTAL:NO \"/LIBPATH:D:\\Program Files\\Anaconda\\libs\" \"/LIBPATH:D:\\Program Files\\Anaconda\\PCbuild\\amd64\" /EXPORT:initcython_particle build\\temp.win-amd64-2.7\\Release\\cython_particle.obj \"/OUT:D:\\Program Files\\Anaconda\\QieLearning\\Cython\\Chapter 5 Cython and Extension Types\\cython_particle.pyd\" /IMPLIB:build\\temp.win-amd64-2.7\\Release\\cython_particle.lib /MANIFESTFILE:build\\temp.win-amd64-2.7\\Release\\cython_particle.pyd.manifest\n",
      "cython_particle.obj : warning LNK4197: export 'initcython_particle' specified multiple times; using first specification\n",
      "   Creating library build\\temp.win-amd64-2.7\\Release\\cython_particle.lib and object build\\temp.win-amd64-2.7\\Release\\cython_particle.exp\n"
     ]
    }
   ],
   "source": [
    "!python setup.py build_ext --inplace --compiler=msvc"
   ]
  },
  {
   "cell_type": "code",
   "execution_count": 18,
   "metadata": {
    "collapsed": false
   },
   "outputs": [],
   "source": [
    "%%cython\n",
    "'''\n",
    "为什么从cython_particle中导入的Particle类继承会报错？\n",
    "'''\n",
    "cdef class Particle:\n",
    "    '''Simple Particle type.'''\n",
    "    cdef public double mass\n",
    "    cdef readonly double position\n",
    "    cdef double velocity\n",
    "    def __init__(self, m, p, v):\n",
    "        self.mass = m\n",
    "        \n",
    "        self.position = p\n",
    "        self.velocity = v\n",
    "    def get_momentum(self):\n",
    "        return self.mass * self.velocity\n",
    "\n",
    "cdef class CParticle(Particle):\n",
    "    cdef double momentum\n",
    "    def __init__(self, m, p, v):\n",
    "        super(Particle,self).__init__(m, p, v)\n",
    "        self.momentum = self.mass * self.velocity\n",
    "    cpdef double get_momentum(self):\n",
    "        return self.momentum"
   ]
  },
  {
   "cell_type": "markdown",
   "metadata": {},
   "source": [
    "### VI. Casting and Subclasses\n",
    "当我们work with a dynamically typed object时，Cython无法访问其C-level data及方法。所有的属性查询都必须通过Python/C API,速度很慢。当我们知道动态变量是或者可能是一个内建类型或extension type时，将其转换为静态类型是值得的。这使Cython可以访问C-level属性和方法。更进一步的，Cython也可以不通过Python/C API，直接访问Python-level的属性和cpdef方法。\n",
    "\n",
    "实现上述类型转换有两种方法：\n",
    "- 创建一个我们想要的静态类型的变量，并将动态变量赋给它。\n",
    "- 使用Cython的类型转换操作符，参见Chapter3"
   ]
  },
  {
   "cell_type": "code",
   "execution_count": 28,
   "metadata": {
    "collapsed": false
   },
   "outputs": [
    {
     "ename": "SyntaxError",
     "evalue": "invalid syntax (<ipython-input-28-3da4b3f10649>, line 2)",
     "output_type": "error",
     "traceback": [
      "\u001b[1;36m  File \u001b[1;32m\"<ipython-input-28-3da4b3f10649>\"\u001b[1;36m, line \u001b[1;32m2\u001b[0m\n\u001b[1;33m    %%cython\u001b[0m\n\u001b[1;37m    ^\u001b[0m\n\u001b[1;31mSyntaxError\u001b[0m\u001b[1;31m:\u001b[0m invalid syntax\n"
     ]
    }
   ],
   "source": [
    "p = Particle(1.0, 2.0, 3.0)\n",
    "%%cython\n",
    "cdef Particle static_p = p\n",
    "print static_p.get_momemtum()\n",
    "print static_p.velocity\n",
    "# 使用casting operator\n",
    "print (<Particle>p).get_momentum()\n",
    "print (<Particle>p).velocity"
   ]
  },
  {
   "cell_type": "markdown",
   "metadata": {},
   "source": [
    "### VII. Extension Type Objects and None\n",
    "page 109\n",
    "noncheck compiler directive使所有的函数和method都是None-safe的。\n",
    "> \\# cython: nonecheck=True\n",
    "> cython--directive nonecheck=True source.pyx\n",
    "\n",
    "### VIII. Extension Type Properties in Cython\n",
    "getter和setter方法：\n",
    "- \\_\\_get\\_\\_(self)\n",
    "- \\_\\_set\\_\\_(self, set_value)"
   ]
  },
  {
   "cell_type": "code",
   "execution_count": 29,
   "metadata": {
    "collapsed": false
   },
   "outputs": [
    {
     "ename": "SyntaxError",
     "evalue": "invalid syntax (<ipython-input-29-1694eeed1835>, line 1)",
     "output_type": "error",
     "traceback": [
      "\u001b[1;36m  File \u001b[1;32m\"<ipython-input-29-1694eeed1835>\"\u001b[1;36m, line \u001b[1;32m1\u001b[0m\n\u001b[1;33m    def dispatch(Particle p):\u001b[0m\n\u001b[1;37m                          ^\u001b[0m\n\u001b[1;31mSyntaxError\u001b[0m\u001b[1;31m:\u001b[0m invalid syntax\n"
     ]
    }
   ],
   "source": [
    "def dispatch(Particle p):\n",
    "    if p is None:\n",
    "        raise TypeError(\"...\")\n",
    "    print p.get_momentum()\n",
    "    print p.velocity\n",
    "\n",
    "# Cython提供了特殊语法以实现上述操作\n",
    "def dispatch2(Particle p not None):\n",
    "    print p.get_momentum()\n",
    "    print p.velocity"
   ]
  },
  {
   "cell_type": "markdown",
   "metadata": {},
   "source": [
    "### X. Special Methods Are Even More Special\n",
    "特殊方法是指双下划线开头和结尾的方法，譬如\\_\\_cinit\\_\\_，\\_\\_init\\_\\_，\\_\\_dealloc\\_\\_等。\n",
    "#### 算数方法Arithmetic Methods\n",
    "为了让一个纯Python类C支持in-place加法，我们定义<font face='consolas'>\\_\\_add\\_\\_(self, other)</font>方法。<font face='consolas'>c + d</font>被转化为<font face='consolas'>C.\\_\\_add\\_\\_(c,d)</font>，其中<font face='consolas'>c</font>是C类的实例。如果C不知道怎么将自己与其他参数相加，返回<font face='consolas'>NotImplemented</font>。在这种情况下，Python解释器调用<font face='consolas'>type(d).\\_\\_radd\\_\\_(d, c)</font>给<font face='consolas'>b</font>的类一个机会，将其自身和C的实例相加。\n",
    "\n",
    "对于extension types，情况有些不同。Extension types不支持<font face='consolas'>\\_\\_radd\\_\\_</font>，它们重载<font face='consolas'>\\_\\_add\\_\\_</font>方法，在一个方法中实现<font face='consolas'>\\_\\_add\\_\\_</font>和<font face='consolas'>\\_\\_radd\\_\\_</font>的功能。——<font color='#ff2222'>page 112</font>"
   ]
  },
  {
   "cell_type": "code",
   "execution_count": 34,
   "metadata": {
    "collapsed": false
   },
   "outputs": [
    {
     "name": "stdout",
     "output_type": "stream",
     "text": [
      "Overwriting special_methods.pyx\n"
     ]
    }
   ],
   "source": [
    "%%file special_methods.pyx\n",
    "cdef class E:\n",
    "    \"\"\"Extension type that supports addition.\"\"\"\n",
    "    cdef int data\n",
    "    def __init__(self, d):\n",
    "        self.data = d\n",
    "    def __add__(x, y):\n",
    "        # Regular __add__ behavior\n",
    "        if isinstance(x, E):\n",
    "            if isinstance(y, int):\n",
    "                return (<E>x).data + y\n",
    "        # __radd__ behavior\n",
    "        elif isinstance(y, E):\n",
    "            if isinstance(x, int):\n",
    "                return (<E>y).data + x\n",
    "        else:\n",
    "            return NotImplemented"
   ]
  },
  {
   "cell_type": "code",
   "execution_count": 38,
   "metadata": {
    "collapsed": false
   },
   "outputs": [
    {
     "name": "stdout",
     "output_type": "stream",
     "text": [
      "101\n",
      "101\n",
      "None\n",
      "None\n"
     ]
    }
   ],
   "source": [
    "import pyximport\n",
    "pyximport.install()\n",
    "import special_methods\n",
    "e = special_methods.E(100)\n",
    "# __add__\n",
    "print e + 1\n",
    "# __radd__\n",
    "print 1 + e\n",
    "# NotImplemented\n",
    "print e + 1.0\n",
    "print 1.0 + e"
   ]
  },
  {
   "cell_type": "markdown",
   "metadata": {},
   "source": [
    "#### Rich Comparisons\n",
    "Cython extension types不支持用于个体比较的特殊方法，譬如<font face='consolas'>\\_\\_eq\\_\\_，\\_\\_lt\\_\\_，\\_\\_le\\_\\_</font>等。Cython提供一个方法<font face='consolas'>\\_\\_richcmp\\_\\_(x, y, op)</font>实现这些比较操作，传入的第三个整数参数op指明执行的比较操作。下表中的整数参数是在Python runtime object.h头文件中声明的compile-time constants。我们可以通过cimport访问这些常量（<font color='#ff2222'>详见Chapter 6</font>）\n",
    "\n",
    "> from cpython.object cimport Py_LT, Py_LE, Py_EQ, Py_GE, Py_GT, Py_NE\n",
    "\n",
    "|Integer argument|Comparison|\n",
    "|:----:|:----:|\n",
    "|Py_LT |  <  |\n",
    "|Py_LE |  <=  |\n",
    "|Py_EQ |  ==  |\n",
    "|Py_NE |  !=  |\n",
    "|Py_GT |  >  |\n",
    "|Py_GE |  <=  |"
   ]
  },
  {
   "cell_type": "code",
   "execution_count": 39,
   "metadata": {
    "collapsed": false
   },
   "outputs": [
    {
     "name": "stdout",
     "output_type": "stream",
     "text": [
      "Writing rich_comparisons.pyx\n"
     ]
    }
   ],
   "source": [
    "%%file rich_comparisons.pyx\n",
    "from cpython.object cimport Py_LT, Py_LE, Py_EQ, Py_GE, Py_GT, Py_NE\n",
    "cdef class R:\n",
    "    \"\"\"Extension type that supports rich comparisons.\"\"\"\n",
    "    cdef double data\n",
    "    def __init__(self, d):\n",
    "        self.data = d\n",
    "    def __richcmp__(x, y, int op):\n",
    "        cdef:\n",
    "            R r\n",
    "            double data\n",
    "        # Make r always refer to the R instance.\n",
    "        r, y = (x, y) if isinstance(x, R) else (y, x)\n",
    "        data = r.data\n",
    "        if op == Py_LT:\n",
    "            return data < y\n",
    "        elif op == Py_LE:\n",
    "            return data <= y\n",
    "        elif op == Py_EQ:\n",
    "            return data == y\n",
    "        elif op == Py_NE:\n",
    "            return data != y\n",
    "        elif op == Py_GT:\n",
    "            return data > y\n",
    "        elif op == Py_GE:\n",
    "            return data >= y\n",
    "        else:\n",
    "           assert False"
   ]
  },
  {
   "cell_type": "code",
   "execution_count": 42,
   "metadata": {
    "collapsed": false
   },
   "outputs": [
    {
     "name": "stdout",
     "output_type": "stream",
     "text": [
      "True\n",
      "False\n",
      "True\n",
      "True\n",
      "False\n",
      "False\n",
      "False\n"
     ]
    }
   ],
   "source": [
    "import pyximport\n",
    "pyximport.install()\n",
    "from rich_comparisons import R\n",
    "r = R(10)\n",
    "print r < 20 and 20 > r\n",
    "print r > 20 and 20 < r\n",
    "print 0 <= r <= 100\n",
    "print r == 10\n",
    "print r != 10\n",
    "print r == 20\n",
    "print 20 == r\n"
   ]
  },
  {
   "cell_type": "markdown",
   "metadata": {},
   "source": [
    "#### Iterator Support\n",
    "为了使一个extension type可被迭代，我们为其定义<font face='consolas'>\\_\\_iter\\_\\_</font>方法。为了使一个extension type成为一个迭代器，我们定义我们为其定义<font face='consolas'>\\_\\_next\\_\\_</font>方法。Cython会将<font face='consolas'>\\_\\_next\\_\\_</font>以next暴露给Python。"
   ]
  },
  {
   "cell_type": "code",
   "execution_count": 43,
   "metadata": {
    "collapsed": false
   },
   "outputs": [
    {
     "name": "stdout",
     "output_type": "stream",
     "text": [
      "Writing iter_support.pyx\n"
     ]
    }
   ],
   "source": [
    "%%file iter_support.pyx\n",
    "cdef class I:\n",
    "    cdef:\n",
    "        list data\n",
    "        int i\n",
    "    def __init__(self):\n",
    "        self.data = range(100)\n",
    "        self.i = 0\n",
    "    def __iter__(self):\n",
    "        return self\n",
    "    def __next__(self):\n",
    "        if self.i >= len(self.data):\n",
    "            raise StopIteration()\n",
    "        ret = self.data[self.i]\n",
    "        self.i += 1\n",
    "        return ret"
   ]
  },
  {
   "cell_type": "code",
   "execution_count": 44,
   "metadata": {
    "collapsed": false
   },
   "outputs": [
    {
     "name": "stdout",
     "output_type": "stream",
     "text": [
      "4950\n",
      "0\n",
      "1\n"
     ]
    }
   ],
   "source": [
    "import pyximport\n",
    "pyximport.install()\n",
    "from iter_support import I\n",
    "i = I()\n",
    "s = 0\n",
    "for x in i:\n",
    "    s += x\n",
    "print s\n",
    "it = iter(I())\n",
    "print it.next()\n",
    "print next(it)"
   ]
  }
 ],
 "metadata": {
  "kernelspec": {
   "display_name": "Python 2",
   "language": "python",
   "name": "python2"
  },
  "language_info": {
   "codemirror_mode": {
    "name": "ipython",
    "version": 2
   },
   "file_extension": ".py",
   "mimetype": "text/x-python",
   "name": "python",
   "nbconvert_exporter": "python",
   "pygments_lexer": "ipython2",
   "version": "2.7.10"
  }
 },
 "nbformat": 4,
 "nbformat_minor": 0
}
