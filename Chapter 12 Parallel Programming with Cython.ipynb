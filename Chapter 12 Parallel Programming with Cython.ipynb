{
 "cells": [
  {
   "cell_type": "markdown",
   "metadata": {},
   "source": [
    "# Chapter 12 Parallel Programming with Cython\n",
    "\n",
    "本章将介绍Cython的基于线程的并行化计算。我们将会集中在Cython的<font face='consolas'>prange</font>函数上，其将允许我们将一个串行的for循环改写成多线程并行版本。\n",
    "\n",
    "在介绍<font face='consolas'>prange</font>之前，我们必须先理解Python运行时和本地线程的交互，其涉及了Cpython的global interpreter lock。\n",
    "\n",
    "### I. Thread-Based Parallelism and the Global Interpreter Lock\n",
    "由于CPyhton的内存管理不是线程安全的，所以引入GIL。CPython的GIL是一个互斥锁，防止多个本地线程同时执行Python字节码（bytecodes）。换句话说，在执行CPython程序的过程中，CPython的GIL始终只允许一个本地（或系统）线程执行Python字节码。GIL不仅影响Python-level代码，也影响Python/C API整体。\n",
    "- GIL是管理Python对象内存所必须的\n",
    "- 不操作Python对象的C代码可以不受GIL管束\n",
    "- GIL只针对CPython，其他Python实现如Jython，IronPython和PyPy无需GIL。\n",
    "\n",
    "由于Cython代码被编译而非解释，其运行的并非Python字节码，我们可以通过Cython绕过GIL，实现基于线程的并行计算。\n",
    "\n",
    "在运行Cython并行代码之前，我们首先需要管理GIL。Cython提供了两种管理机制：[1]nogil函数属性，[2]with  nogil context manager\n",
    "\n",
    "#### The nogil Function Attribute\n",
    "我们可以为函数配置nogil属性，表明其允许在释放GIL的情况下使用。在配置nogil属性的函数中，我们不能创建Python对象或与Python对象交互（包括静态定义的Python对象）。\n"
   ]
  },
  {
   "cell_type": "code",
   "execution_count": null,
   "metadata": {
    "collapsed": true
   },
   "outputs": [],
   "source": [
    "cdef int kernel(double complex z, double z_max, int n_max) nogil:"
   ]
  },
  {
   "cell_type": "markdown",
   "metadata": {},
   "source": [
    "\n",
    "我们也可以声明导入的C和C++函数为nogil。**page 221**\n"
   ]
  },
  {
   "cell_type": "code",
   "execution_count": null,
   "metadata": {
    "collapsed": true
   },
   "outputs": [],
   "source": [
    "cdef extern from \"math.h\":\n",
    "    double sin(double x) nogil\n",
    "    double cos(double x) nogil\n",
    "    double tan(double x) nogil\n",
    "    # ...\n",
    "# 或者：\n",
    "cdef extern from \"math.h\" nogil:\n",
    "    double sin(double x)\n",
    "    double cos(double x)\n",
    "    double tan(double x)\n",
    "    # ..."
   ]
  },
  {
   "cell_type": "markdown",
   "metadata": {},
   "source": [
    "#### The with nogil Context Manager\n",
    "<font face='consolas'>with nogil:</font> 下的代码在释放GIL的情况下运行。也可以在该context manager内定义子context manager <font face='consolas'>with gil:</font> ，临时获取GIL以raise an exception或执行设计Python object的其他操作。\n",
    "\n",
    "执行基于线程的并行计算的最简单的途径是使用已经实现并行计算的外部库。另一种途径，也是本章重点，是使用<font face='consolas'>prange</font>"
   ]
  },
  {
   "cell_type": "code",
   "execution_count": 1,
   "metadata": {
    "collapsed": true
   },
   "outputs": [
    {
     "ename": "NameError",
     "evalue": "name 'nogil' is not defined",
     "output_type": "error",
     "traceback": [
      "\u001b[1;31m---------------------------------------------------------------------------\u001b[0m",
      "\u001b[1;31mNameError\u001b[0m                                 Traceback (most recent call last)",
      "\u001b[1;32m<ipython-input-1-f3c8546404b6>\u001b[0m in \u001b[0;36m<module>\u001b[1;34m()\u001b[0m\n\u001b[0;32m      1\u001b[0m \u001b[1;31m# ...declare and initialize C arguments...\u001b[0m\u001b[1;33m\u001b[0m\u001b[1;33m\u001b[0m\u001b[0m\n\u001b[1;32m----> 2\u001b[1;33m \u001b[1;32mwith\u001b[0m \u001b[0mnogil\u001b[0m\u001b[1;33m:\u001b[0m \u001b[1;31m# run without the GIL in place\u001b[0m\u001b[1;33m\u001b[0m\u001b[0m\n\u001b[0m\u001b[0;32m      3\u001b[0m     \u001b[0mresult\u001b[0m \u001b[1;33m=\u001b[0m \u001b[0mkernel\u001b[0m\u001b[1;33m(\u001b[0m\u001b[0mz\u001b[0m\u001b[1;33m,\u001b[0m \u001b[0mz_max\u001b[0m\u001b[1;33m,\u001b[0m \u001b[0mn_max\u001b[0m\u001b[1;33m)\u001b[0m\u001b[1;33m\u001b[0m\u001b[0m\n\u001b[0;32m      4\u001b[0m \u001b[1;31m# GIL reacquired\u001b[0m\u001b[1;33m\u001b[0m\u001b[1;33m\u001b[0m\u001b[0m\n\u001b[0;32m      5\u001b[0m \u001b[1;32mprint\u001b[0m \u001b[0mresult\u001b[0m\u001b[1;33m\u001b[0m\u001b[0m\n",
      "\u001b[1;31mNameError\u001b[0m: name 'nogil' is not defined"
     ]
    }
   ],
   "source": [
    "# ...declare and initialize C arguments...\n",
    "with nogil: # run without the GIL in place\n",
    "    result = kernel(z, z_max, n_max)\n",
    "# GIL reacquired\n",
    "print result"
   ]
  },
  {
   "cell_type": "markdown",
   "metadata": {},
   "source": [
    "### II. Using prange to Parallelize Loops\n",
    "julia set的Cython串行循环实现的运行时间是2.24s。"
   ]
  },
  {
   "cell_type": "code",
   "execution_count": 13,
   "metadata": {
    "collapsed": false
   },
   "outputs": [
    {
     "name": "stdout",
     "output_type": "stream",
     "text": [
      "Overwriting julia.pyx\n"
     ]
    }
   ],
   "source": [
    "%%file julia.pyx\n",
    "from cython cimport boundscheck, wraparound\n",
    "from cython.parallel cimport prange\n",
    "\n",
    "import numpy as np\n",
    "\n",
    "cdef inline double norm2(double complex z) nogil:\n",
    "    return z.real * z.real + z.imag * z.imag\n",
    "\n",
    "\n",
    "cdef int escape(double complex z,\n",
    "                double complex c,\n",
    "                double z_max,\n",
    "                int n_max) nogil:\n",
    "\n",
    "    cdef:\n",
    "        int i = 0\n",
    "        double z_max2 = z_max * z_max\n",
    "\n",
    "    while norm2(z) < z_max2 and i < n_max:\n",
    "        z = z * z + c\n",
    "        i += 1\n",
    "\n",
    "    return i\n",
    "\n",
    "\n",
    "@boundscheck(False)\n",
    "@wraparound(False)\n",
    "def calc_julia(int resolution, double complex c,\n",
    "               double bound=1.5, double z_max=4.0, int n_max=1000):\n",
    "\n",
    "    cdef:\n",
    "        double step = 2.0 * bound / resolution\n",
    "        int i, j\n",
    "        double complex z\n",
    "        double real, imag\n",
    "        int[:, ::1] counts\n",
    "\n",
    "    counts = np.zeros((resolution+1, resolution+1), dtype=np.int32)\n",
    "\n",
    "    for i in prange(resolution + 1, nogil=True,\n",
    "                    schedule='static', chunksize=1):\n",
    "        real = -bound + i * step\n",
    "        for j in range(resolution + 1):\n",
    "            imag = -bound + j * step\n",
    "            z = real + imag * 1j\n",
    "            counts[i,j] = escape(z, c, z_max, n_max)\n",
    "\n",
    "    return np.asarray(counts)\n",
    "\n",
    "@boundscheck(False)\n",
    "@wraparound(False)\n",
    "def julia_fraction(int[:,::1] counts, int maxval=1000):\n",
    "    cdef:\n",
    "        int total = 0\n",
    "        int i, j, N, M\n",
    "    N = counts.shape[0]; M = counts.shape[1]\n",
    "\n",
    "    for i in prange(N, nogil=True):\n",
    "        for j in range(M):\n",
    "            if counts[i,j] == maxval:\n",
    "                total += 1\n",
    "    return total / float(counts.size)"
   ]
  },
  {
   "cell_type": "code",
   "execution_count": 14,
   "metadata": {
    "collapsed": false
   },
   "outputs": [
    {
     "name": "stdout",
     "output_type": "stream",
     "text": [
      "Overwriting setup_julia.py\n"
     ]
    }
   ],
   "source": [
    "%%file setup_julia.py\n",
    "from distutils.core import setup\n",
    "from distutils.extension import Extension\n",
    "from Cython.Build import cythonize\n",
    "\n",
    "ext_modules = [\n",
    "    Extension(\n",
    "        'julia',\n",
    "        ['julia.pyx'],\n",
    "        extra_compile_args=['/openmp'],\n",
    "        extra_link_args=['/openmp'],\n",
    "    )\n",
    "]\n",
    "setup(name='julia',ext_modules=cythonize(ext_modules))"
   ]
  },
  {
   "cell_type": "code",
   "execution_count": 15,
   "metadata": {
    "collapsed": false
   },
   "outputs": [
    {
     "name": "stdout",
     "output_type": "stream",
     "text": [
      "Compiling julia.pyx because it changed.\n",
      "Cythonizing julia.pyx\n",
      "running build_ext\n",
      "building 'julia' extension\n",
      "creating build\n",
      "creating build\\temp.win-amd64-2.7\n",
      "creating build\\temp.win-amd64-2.7\\Release\n",
      "C:\\Users\\Think X260\\AppData\\Local\\Programs\\Common\\Microsoft\\Visual C++ for Python\\9.0\\VC\\Bin\\amd64\\cl.exe /c /nologo /Ox /MD /W3 /GS- /DNDEBUG \"-ID:\\Program Files\\Anaconda\\include\" \"-ID:\\Program Files\\Anaconda\\PC\" /Tcjulia.c /Fobuild\\temp.win-amd64-2.7\\Release\\julia.obj /openmp\n",
      "julia.c\n",
      "julia.c(2092) : warning C4244: '=' : conversion from 'Py_ssize_t' to 'int', possible loss of data\n",
      "julia.c(2093) : warning C4244: '=' : conversion from 'Py_ssize_t' to 'int', possible loss of data\n",
      "C:\\Users\\Think X260\\AppData\\Local\\Programs\\Common\\Microsoft\\Visual C++ for Python\\9.0\\VC\\Bin\\amd64\\link.exe /DLL /nologo /INCREMENTAL:NO \"/LIBPATH:D:\\Program Files\\Anaconda\\libs\" \"/LIBPATH:D:\\Program Files\\Anaconda\\PCbuild\\amd64\" /EXPORT:initjulia build\\temp.win-amd64-2.7\\Release\\julia.obj \"/OUT:D:\\Program Files\\Anaconda\\QieLearning\\Cython\\Chapter 12 Parallel Programming with Cython\\julia.pyd\" /IMPLIB:build\\temp.win-amd64-2.7\\Release\\julia.lib /MANIFESTFILE:build\\temp.win-amd64-2.7\\Release\\julia.pyd.manifest /openmp\n",
      "LINK : warning LNK4044: unrecognized option '/openmp'; ignored\n",
      "julia.obj : warning LNK4197: export 'initjulia' specified multiple times; using first specification\n",
      "   Creating library build\\temp.win-amd64-2.7\\Release\\julia.lib and object build\\temp.win-amd64-2.7\\Release\\julia.exp\n",
      "C:\\Users\\Think X260\\AppData\\Local\\Programs\\Common\\Microsoft\\Visual C++ for Python\\9.0\\WinSDK\\Bin\\x64\\mt.exe -nologo -manifest build\\temp.win-amd64-2.7\\Release\\julia.pyd.manifest \"-outputresource:D:\\Program Files\\Anaconda\\QieLearning\\Cython\\Chapter 12 Parallel Programming with Cython\\julia.pyd;2\"\n"
     ]
    }
   ],
   "source": [
    "!python setup_julia.py build_ext --inplace --compiler=msvc"
   ]
  },
  {
   "cell_type": "code",
   "execution_count": 5,
   "metadata": {
    "collapsed": false
   },
   "outputs": [
    {
     "data": {
      "text/plain": [
       "(None, <pyximport.pyximport.PyxImporter at 0x3e07ac8>)"
      ]
     },
     "execution_count": 5,
     "metadata": {},
     "output_type": "execute_result"
    }
   ],
   "source": [
    "import pyximport\n",
    "pyximport.install()"
   ]
  },
  {
   "cell_type": "code",
   "execution_count": 16,
   "metadata": {
    "collapsed": false
   },
   "outputs": [
    {
     "ename": "ImportError",
     "evalue": "DLL load failed: 应用程序无法启动，因为应用程序的并行配置不正确。有关详细信息，请参阅应用程序事件日志，或使用命令行 sxstrace.exe 工具。",
     "output_type": "error",
     "traceback": [
      "\u001b[1;31m---------------------------------------------------------------------------\u001b[0m",
      "\u001b[1;31mImportError\u001b[0m                               Traceback (most recent call last)",
      "\u001b[1;32m<ipython-input-16-9c7c0cfc536b>\u001b[0m in \u001b[0;36m<module>\u001b[1;34m()\u001b[0m\n\u001b[1;32m----> 1\u001b[1;33m \u001b[1;32mimport\u001b[0m \u001b[0mjulia\u001b[0m\u001b[1;33m\u001b[0m\u001b[0m\n\u001b[0m\u001b[0;32m      2\u001b[0m \u001b[0mjl\u001b[0m \u001b[1;33m=\u001b[0m \u001b[0mjulia\u001b[0m\u001b[1;33m.\u001b[0m\u001b[0mcalc_julia\u001b[0m\u001b[1;33m(\u001b[0m\u001b[1;36m1000\u001b[0m\u001b[1;33m,\u001b[0m\u001b[1;33m(\u001b[0m\u001b[1;36m0.322\u001b[0m \u001b[1;33m+\u001b[0m \u001b[1;36m0.05j\u001b[0m\u001b[1;33m)\u001b[0m\u001b[1;33m)\u001b[0m\u001b[1;33m\u001b[0m\u001b[0m\n\u001b[0;32m      3\u001b[0m \u001b[1;32mimport\u001b[0m \u001b[0mnumpy\u001b[0m \u001b[1;32mas\u001b[0m \u001b[0mnp\u001b[0m\u001b[1;33m\u001b[0m\u001b[0m\n\u001b[0;32m      4\u001b[0m \u001b[1;32mimport\u001b[0m \u001b[0mmatplotlib\u001b[0m\u001b[1;33m.\u001b[0m\u001b[0mpyplot\u001b[0m \u001b[1;32mas\u001b[0m \u001b[0mplt\u001b[0m\u001b[1;33m\u001b[0m\u001b[0m\n\u001b[0;32m      5\u001b[0m \u001b[0mget_ipython\u001b[0m\u001b[1;33m(\u001b[0m\u001b[1;33m)\u001b[0m\u001b[1;33m.\u001b[0m\u001b[0mmagic\u001b[0m\u001b[1;33m(\u001b[0m\u001b[1;34mu'matplotlib inline'\u001b[0m\u001b[1;33m)\u001b[0m\u001b[1;33m\u001b[0m\u001b[0m\n",
      "\u001b[1;31mImportError\u001b[0m: DLL load failed: 应用程序无法启动，因为应用程序的并行配置不正确。有关详细信息，请参阅应用程序事件日志，或使用命令行 sxstrace.exe 工具。"
     ]
    }
   ],
   "source": [
    "import julia\n",
    "jl = julia.calc_julia(1000,(0.322 + 0.05j))\n",
    "import numpy as np\n",
    "import matplotlib.pyplot as plt\n",
    "%matplotlib inline\n",
    "plt.imshow(np.log(jl))\n",
    "\n",
    "%timeit julia.calc_julia(1000,(0.322 + 0.05j))"
   ]
  }
 ],
 "metadata": {
  "kernelspec": {
   "display_name": "Python 2",
   "language": "python",
   "name": "python2"
  },
  "language_info": {
   "codemirror_mode": {
    "name": "ipython",
    "version": 2
   },
   "file_extension": ".py",
   "mimetype": "text/x-python",
   "name": "python",
   "nbconvert_exporter": "python",
   "pygments_lexer": "ipython2",
   "version": "2.7.10"
  }
 },
 "nbformat": 4,
 "nbformat_minor": 0
}
