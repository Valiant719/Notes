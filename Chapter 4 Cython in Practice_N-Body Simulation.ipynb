{
 "cells": [
  {
   "cell_type": "markdown",
   "metadata": {},
   "source": [
    "### 将nemeric-heavy的Python代码转化为Cython的一般步骤\n",
    "- 使用<font color='#ff2222' face='consolas'>cProfile</font>模块或使用Ipython的魔法命令<font color='#ff2222' face='consolas'>%run -p</font>来确定代码的时间消耗profile，从而确定需优化的部分。\n",
    "- 重点检查嵌套for循环、numeric-heavy operations以及嵌套Python containers。这些都很容易用Cython穿华为更高效的C级别实现。\n",
    "- 使用Cython声明Python数据结构相对应的C数据结构，必要的时候构建数据类型间的转化函数。\n",
    "- 竟可能的使用C级别的数据结构，尤其是嵌套for循环中。保证嵌套循环中的变量都是静态定义类型。\n",
    "- 测试代码保证上述修改未改变语义。再一次获取时间消耗profile，如果对效果仍然不满意，使用Cython的profiling tools定位低效代码。\n",
    "- 在必要的情况下重复上述步骤"
   ]
  }
 ],
 "metadata": {
  "kernelspec": {
   "display_name": "Python 2",
   "language": "python",
   "name": "python2"
  },
  "language_info": {
   "codemirror_mode": {
    "name": "ipython",
    "version": 2
   },
   "file_extension": ".py",
   "mimetype": "text/x-python",
   "name": "python",
   "nbconvert_exporter": "python",
   "pygments_lexer": "ipython2",
   "version": "2.7.10"
  }
 },
 "nbformat": 4,
 "nbformat_minor": 0
}
